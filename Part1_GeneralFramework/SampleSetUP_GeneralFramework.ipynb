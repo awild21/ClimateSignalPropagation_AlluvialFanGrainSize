{
 "cells": [
  {
   "cell_type": "code",
   "execution_count": 4,
   "metadata": {},
   "outputs": [
    {
     "name": "stdout",
     "output_type": "stream",
     "text": [
      "The xsimlab.ipython extension is already loaded. To reload it, use:\n",
      "  %reload_ext xsimlab.ipython\n"
     ]
    }
   ],
   "source": [
    "import numpy as np\n",
    "import xarray as xr\n",
    "import xsimlab as xs\n",
    "import numba #for wrapping the function\n",
    "import zarr\n",
    "import matplotlib.pyplot as plt\n",
    "import sys\n",
    "import os\n",
    "%load_ext xsimlab.ipython\n",
    "#plt.style.use('dark_background')"
   ]
  },
  {
   "cell_type": "code",
   "execution_count": 5,
   "metadata": {},
   "outputs": [],
   "source": [
    "#Compute the 1D uplift and subsidence curve using a modified approach from Duller et al. (2010) for applications of the Fedele and Paola (2007) grain size fining solution\n",
    "#@numba.njit\n",
    "def SubsidenceCurve_Duller_BatchF(alpha, u0, wm, wb, F, x, ts, tf, ntime):\n",
    "    import xarray as xr\n",
    "    fact = (1 - np.exp(-alpha))/alpha\n",
    "    s0 = u0*wm/wb/fact/F\n",
    "    ex=np.exp(-(x-wm)/wb*alpha)\n",
    "    us = np.where(x<wm, 1, 0)\n",
    "    u = np.where(x[np.newaxis,:,:]<wm, u0,-s0[:,np.newaxis,np.newaxis]*ex[np.newaxis,:,:])\n",
    "    time = np.linspace(0,tf,ntime)\n",
    "    u = xr.DataArray(u[:,np.newaxis,:, :] *np.where(time[np.newaxis,:,np.newaxis,np.newaxis]<ts, us[np.newaxis,np.newaxis,:,:], 1), dims=['F','time','y','x'])\n",
    "    return u"
   ]
  },
  {
   "cell_type": "code",
   "execution_count": 21,
   "metadata": {},
   "outputs": [
    {
     "name": "stdout",
     "output_type": "stream",
     "text": [
      "/Users/amandawild/Desktop/ClimateSignalPropagation_AlluvialFanGrainSize\n"
     ]
    }
   ],
   "source": [
    "#Run only once\n",
    "os.chdir('..')\n",
    "print(os.getcwd())"
   ]
  },
  {
   "cell_type": "code",
   "execution_count": 22,
   "metadata": {},
   "outputs": [],
   "source": [
    "from GravelScape_ModelPackages.GravelScape import GravelGSN"
   ]
  },
  {
   "cell_type": "code",
   "execution_count": 23,
   "metadata": {},
   "outputs": [],
   "source": [
    "from ipyfastscape import TopoViz3d\n",
    "#\n",
    "from fastscape.models import sediment_model\n",
    "#from fastscape.processes import Flexure\n",
    "from fastscape.processes import FlowAccumulator\n",
    "from fastscape.processes import (MultipleFlowRouter)\n",
    "from fastscape.processes import (Bedrock)\n",
    "from fastscape.processes import (DrainageArea)\n",
    "#\n",
    "#from fastscape.processes import StratigraphicHorizons\n",
    "#sediment_model = sediment_model.update_processes({'drainage': FlowAccumulator}) # we change the drainage calculator to allow for non uniform rainfall\n",
    "#sediment_model = sediment_model.update_processes({\"flexure\": Flexure}).drop_processes('init_topography')\n",
    "model = sediment_model.update_processes({'flow': MultipleFlowRouter,\n",
    "                                         'GravelGSN':GravelGSN,\n",
    "                                         'bedrock':Bedrock,\n",
    "                                         'drainage': FlowAccumulator,\n",
    "                                         #'strati': StratigraphicHorizons,\n",
    "                                        # \"flexure\": Flexure\n",
    "                                        }).drop_processes('init_topography')\n"
   ]
  },
  {
   "cell_type": "markdown",
   "metadata": {},
   "source": [
    "## Constant Variables"
   ]
  },
  {
   "cell_type": "code",
   "execution_count": 24,
   "metadata": {},
   "outputs": [],
   "source": [
    "#Space and time"
   ]
  },
  {
   "cell_type": "code",
   "execution_count": 29,
   "metadata": {},
   "outputs": [],
   "source": [
    "#constant Variables \n",
    "yl = 20e3#50e3#100e3#100e3 # yl, length of the mesh in the y-direction #1e3\n",
    "ny = 41#51#101#101 # number of points in the y-direction #2\n",
    "wm = 30e3#(xl/(nx-1))*25 # width of the mountain (in m) #cell size * number of cells\n",
    "\n",
    "# time\n",
    "time = np.linspace(0, 11e6, 1101)\n",
    "#out = np.linspace(0, 30e6, 301)\n",
    "tf = 11e6 # duration of the model run in years\n",
    "ts = 2e6 # duration of the first phase of uplift without subsidence\n",
    "ntime = 1101#5001 # number of time steps"
   ]
  },
  {
   "cell_type": "code",
   "execution_count": 30,
   "metadata": {},
   "outputs": [],
   "source": [
    "#Other SPL"
   ]
  },
  {
   "cell_type": "code",
   "execution_count": 31,
   "metadata": {},
   "outputs": [],
   "source": [
    "m = 0.5 # area exponent in the SPL\n",
    "u0=0.0002#1e-2\n",
    "alpha=2.5\n",
    "n=1\n"
   ]
  },
  {
   "cell_type": "markdown",
   "metadata": {},
   "source": [
    "## CHANGE: Variables that change to test different end members in the framework."
   ]
  },
  {
   "cell_type": "code",
   "execution_count": 32,
   "metadata": {},
   "outputs": [],
   "source": [
    "#INputs that cannot accept batch"
   ]
  },
  {
   "cell_type": "code",
   "execution_count": 33,
   "metadata": {},
   "outputs": [],
   "source": [
    "#Basin area/confinement\n",
    "#CHANGE THESE parameters to simulate constrained or unconstrained conditions.\n",
    "xl = 45e3#45000 confined #75000 #unconfined # xl, length of the grid in the x-direction\n",
    "nx = 91#91 confined #151 unconfined\n",
    "wb = xl - wm # with of the basin (in m)\n",
    "x, y = np.meshgrid(np.linspace(0,xl,nx), np.linspace(0,yl,ny)) # creates an x,y mesh\n",
    "h0 = np.ones([ny,nx]) + np.where(x>wm,1-(x-wm)/(xl-wm), 1)"
   ]
  },
  {
   "cell_type": "code",
   "execution_count": 34,
   "metadata": {},
   "outputs": [],
   "source": [
    "#Inputs where batch (multiple values are possible)"
   ]
  },
  {
   "cell_type": "code",
   "execution_count": 35,
   "metadata": {},
   "outputs": [],
   "source": [
    "#Subsidence\n",
    "#Change this to alternate a high and low bypass scenario\n",
    "F = np.array([16]) #8 and 16 onwards\n",
    "UpSubGrid=SubsidenceCurve_Duller_BatchF(alpha, u0, wm, wb, F, x, ts, tf, ntime)[0]"
   ]
  },
  {
   "cell_type": "code",
   "execution_count": 55,
   "metadata": {},
   "outputs": [
    {
     "data": {
      "text/plain": [
       "[<matplotlib.lines.Line2D at 0x318bae320>]"
      ]
     },
     "execution_count": 55,
     "metadata": {},
     "output_type": "execute_result"
    },
    {
     "data": {
      "image/png": "[encoded data removed]",
      "text/plain": [
       "<Figure size 640x480 with 1 Axes>"
      ]
     },
     "metadata": {},
     "output_type": "display_data"
    }
   ],
   "source": [
    "UpSubGrid.isel(time=1).mean('y').plot()"
   ]
  },
  {
   "cell_type": "code",
   "execution_count": 56,
   "metadata": {},
   "outputs": [
    {
     "data": {
      "text/plain": [
       "[<matplotlib.lines.Line2D at 0x313de7340>]"
      ]
     },
     "execution_count": 56,
     "metadata": {},
     "output_type": "execute_result"
    },
    {
     "data": {
      "image/png": "[encoded data removed]",
      "text/plain": [
       "<Figure size 640x480 with 1 Axes>"
      ]
     },
     "metadata": {},
     "output_type": "display_data"
    }
   ],
   "source": [
    "UpSubGrid.isel(time=-1).mean('y').plot()"
   ]
  },
  {
   "cell_type": "code",
   "execution_count": 37,
   "metadata": {},
   "outputs": [],
   "source": [
    "# K and G\n",
    "K=1e-6 #or 1e-5\n",
    "#K=xr.DataArray(np.array([5e-5,2.5e-5,1e-5,7.5e-6,5e-6,2.5e-6,1e-6,7.5e-7,5e-7,2.5e-7,1e-7]),dims=['K'])#2.5e-7#12.5e-7\n",
    "G=1#xr.DataArray([1,2])"
   ]
  },
  {
   "cell_type": "code",
   "execution_count": null,
   "metadata": {},
   "outputs": [],
   "source": []
  },
  {
   "cell_type": "markdown",
   "metadata": {},
   "source": [
    "## Impose a ten-fold change in Precipitaiton for 100kyr duration after 8Kyrs"
   ]
  },
  {
   "cell_type": "code",
   "execution_count": 38,
   "metadata": {},
   "outputs": [],
   "source": [
    "#Precip\n",
    "PrBasin=1\n",
    "PrOrogen=1\n",
    "pr = xr.DataArray(np.where(\n",
    "    (x[np.newaxis,:, :]<wm)&\n",
    "    (time[:,np.newaxis,np.newaxis] <=tf),\n",
    "    PrOrogen,PrBasin),\n",
    "                  dims=['time','y','x'])\n",
    "precip=xr.DataArray(np.where(time[:,np.newaxis,np.newaxis]>8e6,pr*10,pr),dims=['time','y','x'])"
   ]
  },
  {
   "cell_type": "code",
   "execution_count": 39,
   "metadata": {},
   "outputs": [
    {
     "data": {
      "text/plain": [
       "<matplotlib.collections.QuadMesh at 0x313d1bd30>"
      ]
     },
     "execution_count": 39,
     "metadata": {},
     "output_type": "execute_result"
    },
    {
     "data": {
      "image/png": "[encoded data removed]",
      "text/plain": [
       "<Figure size 640x480 with 2 Axes>"
      ]
     },
     "metadata": {},
     "output_type": "display_data"
    }
   ],
   "source": [
    "precip.mean('y').plot()"
   ]
  },
  {
   "cell_type": "code",
   "execution_count": 47,
   "metadata": {},
   "outputs": [
    {
     "data": {
      "text/plain": [
       "(1101, 41, 91)"
      ]
     },
     "execution_count": 47,
     "metadata": {},
     "output_type": "execute_result"
    }
   ],
   "source": [
    "np.shape(UpSubGrid)"
   ]
  },
  {
   "cell_type": "code",
   "execution_count": 52,
   "metadata": {},
   "outputs": [
    {
     "data": {
      "text/plain": [
       "(41, 91)"
      ]
     },
     "execution_count": 52,
     "metadata": {},
     "output_type": "execute_result"
    }
   ],
   "source": [
    "np.shape(h0)"
   ]
  },
  {
   "cell_type": "code",
   "execution_count": 53,
   "metadata": {},
   "outputs": [
    {
     "data": {
      "text/plain": [
       "(1101, 41, 91)"
      ]
     },
     "execution_count": 53,
     "metadata": {},
     "output_type": "execute_result"
    }
   ],
   "source": [
    "np.shape(precip)"
   ]
  },
  {
   "cell_type": "code",
   "execution_count": 50,
   "metadata": {},
   "outputs": [
    {
     "data": {
      "text/plain": [
       "91"
      ]
     },
     "execution_count": 50,
     "metadata": {},
     "output_type": "execute_result"
    }
   ],
   "source": [
    "np.shape(np.linspace(0,tf,ntime))\n",
    "ny\n",
    "nx"
   ]
  },
  {
   "cell_type": "code",
   "execution_count": 41,
   "metadata": {},
   "outputs": [
    {
     "name": "stderr",
     "output_type": "stream",
     "text": [
      "/opt/anaconda3/envs/FastScapeEnvironment/lib/python3.10/site-packages/xsimlab/xr_accessor.py:229: FutureWarning: variable 'time' with name matching its dimension will not be automatically converted into an `IndexVariable` object in the future.\n",
      "  xr_var = as_variable(data, name=dim)\n"
     ]
    }
   ],
   "source": [
    "# %create_setup model --default --verbose\n",
    "import xsimlab as xs\n",
    "\n",
    "ds_in = xs.create_setup(\n",
    "    model=model,\n",
    "    clocks={'time': np.linspace(0,tf,ntime)},\n",
    "    master_clock = 'time',\n",
    "    input_vars={\n",
    "        # nb. of grid nodes in (y, x)\n",
    "        'grid__shape': [ny,nx],\n",
    "        # total grid length in (y, x)\n",
    "        'grid__length': [yl,xl],\n",
    "        # node status at borders\n",
    "        'boundary__status': ['core','fixed_value','looped','looped'],\n",
    "        # uplift rate\n",
    "        #'uplift__rate': SubsidenceCurve_Duller(alpha, u0Start, wm, wb, F, x, ts, tf, ntime),\n",
    "        'uplift__rate': UpSubGrid,\n",
    "        # random seed\n",
    "        #'init_topography__seed': None,\n",
    "         # initial topography\n",
    "        \"topography__elevation\": h0,\n",
    "        # MFD partioner slope exponent\n",
    "        'flow__slope_exp': n,\n",
    "        # drainage area exponent\n",
    "        'spl__area_exp': m,\n",
    "        # slope exponent\n",
    "        'spl__slope_exp': n,\n",
    "        # bedrock channel incision coefficient\n",
    "        'spl__k_coef_bedrock': K ,#2e-5,\n",
    "        # soil (sediment) channel ncision coefficient\n",
    "        'spl__k_coef_soil': K, #1e-5,\n",
    "        #\n",
    "        'spl__tol_rel':10e-6,\n",
    "        #\n",
    "        'spl__tol_abs':0.0001,\n",
    "        #\n",
    "        'spl__max_iter':100,\n",
    "        # drainage area exponent\n",
    "        # detached bedrock transport/deposition coefficient\n",
    "        'spl__g_coef_bedrock': G,\n",
    "        # soil (sediment) transport/deposition coefficient\n",
    "        'spl__g_coef_soil': G,\n",
    "        # bedrock diffusivity\n",
    "        'diffusion__diffusivity_bedrock':0 , #0.03,\n",
    "        # soil (sediment) diffusivity\n",
    "        'diffusion__diffusivity_soil': 0 ,#0.1,\n",
    "        # The bedrock source D50 grain size\n",
    "        'GravelGSN__D0': 1,\n",
    "        # The bedrock source grain size standard deviation\n",
    "        'GravelGSN__SD0': 0.75,\n",
    "        # Cv (grain size calculation constant) described in Fedele and Paola (2007) and Duller\n",
    "        # et al. (2010)\n",
    "        'GravelGSN__Cv': 0.75,\n",
    "        # C1 (grain size calculation constant) described in Fedele and Paola (2007) and Duller\n",
    "        # et al. (2010)\n",
    "        'GravelGSN__C1': 0.75,\n",
    "        # Porosity\n",
    "        'GravelGSN__porosity': 0,\n",
    "        # runoff\n",
    "        'drainage__runoff': precip,\n",
    "        #'strati__freeze_time': np.linspace(0,tf,int((tf/((tf-Tsteady)/25))+1)),\n",
    "\n",
    "    },\n",
    "    output_vars={'topography__elevation': 'time', #multi time step\n",
    "                'drainage__flowacc': 'time', #For mobility calculation over time\n",
    "                #'flow__nb_donors': 'out2', #For longest river calc.\n",
    "                #'flow__donors': 'out2', #For longest river calc.\n",
    "                #'flow__nb_receivers':'out2',\n",
    "                #'flow__receivers':'out2',\n",
    "                #'flow__stack':'out2',\n",
    "                #'GravelGSN__D0Source': 'out2', #time step specific GS\n",
    "                'GravelGSN__DMean': 'time', #time step specific GS\n",
    "                'GravelGSN__DTIME': 'time',\n",
    "                #'GravelGSN__YStar':'out2',\n",
    "                #'GravelGSN__EFlux': 'out2',\n",
    "                'bedrock__elevation': 'time',\n",
    "                #'flow__basin':'out2',\n",
    "                'erosion__rate': 'time',\n",
    "                #\"strati__elevation\": \"out\"\n",
    "                }\n",
    ")"
   ]
  },
  {
   "cell_type": "code",
   "execution_count": 57,
   "metadata": {},
   "outputs": [
    {
     "name": "stdout",
     "output_type": "stream",
     "text": [
      "/Users/amandawild/Desktop/ClimateSignalPropagation_AlluvialFanGrainSize/Part1_GeneralFramework\n"
     ]
    }
   ],
   "source": [
    "os.chdir('Part1_GeneralFramework')\n",
    "print(os.getcwd())"
   ]
  },
  {
   "cell_type": "code",
   "execution_count": 58,
   "metadata": {},
   "outputs": [
    {
     "name": "stdout",
     "output_type": "stream",
     "text": [
      "GeneralFastscapePR10MagIncrease_Confinedwb15000_F16_K1e-06_G1.zarr\n"
     ]
    }
   ],
   "source": [
    "# Example variables\n",
    "# Create a filename using concatenation\n",
    "filename = \"GeneralFastscapePR10MagIncrease_\"+\"Confinedwb\" + str(round(wb))+\"_F\" + str(F[0])+\"_K\" + str((K)) + \"_G\" + str(G) + \".zarr\"\n",
    "print(filename)"
   ]
  },
  {
   "cell_type": "code",
   "execution_count": 59,
   "metadata": {},
   "outputs": [],
   "source": [
    "zgroup = zarr.group(filename, overwrite=True)"
   ]
  },
  {
   "cell_type": "code",
   "execution_count": 44,
   "metadata": {},
   "outputs": [],
   "source": [
    "#from dask.distributed import Client\n",
    "#client = Client(n_workers=3, threads_per_worker=1)"
   ]
  },
  {
   "cell_type": "code",
   "execution_count": 45,
   "metadata": {},
   "outputs": [],
   "source": [
    "#from dask.diagnostics import ProgressBar\n",
    "#with model, ProgressBar():\n",
    "    #ds_out = (ds_in\n",
    "#              #.stack(batch=['Precip','F']) # you only need these lines when stacking multiple variables\n",
    "              #.xsimlab.run(batch_dim='K',check_dims='transpose', parallel=True,scheduler=client,store=zgroup) #scheduler='processes'\n",
    "#              #.unstack('batch')\n",
    "              #)"
   ]
  },
  {
   "cell_type": "code",
   "execution_count": 46,
   "metadata": {},
   "outputs": [
    {
     "data": {
      "application/vnd.jupyter.widget-view+json": {
       "model_id": "a915c1002aa24e95b1d12d29967ae601",
       "version_major": 2,
       "version_minor": 0
      },
      "text/plain": [
       "             0% | initialize "
      ]
     },
     "metadata": {},
     "output_type": "display_data"
    },
    {
     "ename": "ValueError",
     "evalue": "input operand has more dimensions than allowed by the axis remapping",
     "output_type": "error",
     "traceback": [
      "\u001b[0;31m---------------------------------------------------------------------------\u001b[0m",
      "\u001b[0;31mValueError\u001b[0m                                Traceback (most recent call last)",
      "Cell \u001b[0;32mIn[46], line 2\u001b[0m\n\u001b[1;32m      1\u001b[0m \u001b[38;5;28;01mwith\u001b[39;00m model, xs\u001b[38;5;241m.\u001b[39mmonitoring\u001b[38;5;241m.\u001b[39mProgressBar():\n\u001b[0;32m----> 2\u001b[0m     ds_out \u001b[38;5;241m=\u001b[39m (\u001b[43mds_in\u001b[49m\u001b[38;5;241;43m.\u001b[39;49m\u001b[43mxsimlab\u001b[49m\u001b[38;5;241;43m.\u001b[39;49m\u001b[43mrun\u001b[49m\u001b[43m(\u001b[49m\u001b[43mmodel\u001b[49m\u001b[38;5;241;43m=\u001b[39;49m\u001b[43mmodel\u001b[49m\u001b[43m,\u001b[49m\u001b[43m \u001b[49m\u001b[43mstore\u001b[49m\u001b[38;5;241;43m=\u001b[39;49m\u001b[43mzgroup\u001b[49m\u001b[43m)\u001b[49m)\n",
      "File \u001b[0;32m/opt/anaconda3/envs/FastScapeEnvironment/lib/python3.10/site-packages/xsimlab/xr_accessor.py:823\u001b[0m, in \u001b[0;36mSimlabAccessor.run\u001b[0;34m(self, model, batch_dim, check_dims, validate, store, encoding, decoding, hooks, parallel, scheduler, safe_mode)\u001b[0m\n\u001b[1;32m    807\u001b[0m     model \u001b[38;5;241m=\u001b[39m model\u001b[38;5;241m.\u001b[39mclone()\n\u001b[1;32m    809\u001b[0m driver \u001b[38;5;241m=\u001b[39m XarraySimulationDriver(\n\u001b[1;32m    810\u001b[0m     \u001b[38;5;28mself\u001b[39m\u001b[38;5;241m.\u001b[39m_ds,\n\u001b[1;32m    811\u001b[0m     model,\n\u001b[0;32m   (...)\u001b[0m\n\u001b[1;32m    820\u001b[0m     scheduler\u001b[38;5;241m=\u001b[39mscheduler,\n\u001b[1;32m    821\u001b[0m )\n\u001b[0;32m--> 823\u001b[0m \u001b[43mdriver\u001b[49m\u001b[38;5;241;43m.\u001b[39;49m\u001b[43mrun_model\u001b[49m\u001b[43m(\u001b[49m\u001b[43m)\u001b[49m\n\u001b[1;32m    825\u001b[0m \u001b[38;5;28;01mreturn\u001b[39;00m driver\u001b[38;5;241m.\u001b[39mget_results()\n",
      "File \u001b[0;32m/opt/anaconda3/envs/FastScapeEnvironment/lib/python3.10/site-packages/xsimlab/drivers.py:472\u001b[0m, in \u001b[0;36mXarraySimulationDriver.run_model\u001b[0;34m(self)\u001b[0m\n\u001b[1;32m    469\u001b[0m args \u001b[38;5;241m=\u001b[39m (\u001b[38;5;28mself\u001b[39m\u001b[38;5;241m.\u001b[39mstore, \u001b[38;5;28mself\u001b[39m\u001b[38;5;241m.\u001b[39mhooks, \u001b[38;5;28mself\u001b[39m\u001b[38;5;241m.\u001b[39m_validate_option)\n\u001b[1;32m    471\u001b[0m \u001b[38;5;28;01mif\u001b[39;00m \u001b[38;5;28mself\u001b[39m\u001b[38;5;241m.\u001b[39mbatch_dim \u001b[38;5;129;01mis\u001b[39;00m \u001b[38;5;28;01mNone\u001b[39;00m:\n\u001b[0;32m--> 472\u001b[0m     \u001b[43m_run\u001b[49m\u001b[43m(\u001b[49m\n\u001b[1;32m    473\u001b[0m \u001b[43m        \u001b[49m\u001b[43mds_in\u001b[49m\u001b[43m,\u001b[49m\n\u001b[1;32m    474\u001b[0m \u001b[43m        \u001b[49m\u001b[38;5;28;43mself\u001b[39;49m\u001b[38;5;241;43m.\u001b[39;49m\u001b[43mmodel\u001b[49m\u001b[43m,\u001b[49m\n\u001b[1;32m    475\u001b[0m \u001b[43m        \u001b[49m\u001b[38;5;241;43m*\u001b[39;49m\u001b[43margs\u001b[49m\u001b[43m,\u001b[49m\n\u001b[1;32m    476\u001b[0m \u001b[43m        \u001b[49m\u001b[43mparallel\u001b[49m\u001b[38;5;241;43m=\u001b[39;49m\u001b[38;5;28;43mself\u001b[39;49m\u001b[38;5;241;43m.\u001b[39;49m\u001b[43mparallel\u001b[49m\u001b[43m,\u001b[49m\n\u001b[1;32m    477\u001b[0m \u001b[43m        \u001b[49m\u001b[43mscheduler\u001b[49m\u001b[38;5;241;43m=\u001b[39;49m\u001b[38;5;28;43mself\u001b[39;49m\u001b[38;5;241;43m.\u001b[39;49m\u001b[43mscheduler\u001b[49m\u001b[43m,\u001b[49m\n\u001b[1;32m    478\u001b[0m \u001b[43m    \u001b[49m\u001b[43m)\u001b[49m\n\u001b[1;32m    480\u001b[0m \u001b[38;5;28;01melse\u001b[39;00m:\n\u001b[1;32m    481\u001b[0m     ds_gby_batch \u001b[38;5;241m=\u001b[39m ds_in\u001b[38;5;241m.\u001b[39mgroupby(\u001b[38;5;28mself\u001b[39m\u001b[38;5;241m.\u001b[39mbatch_dim)\n",
      "File \u001b[0;32m/opt/anaconda3/envs/FastScapeEnvironment/lib/python3.10/site-packages/xsimlab/drivers.py:349\u001b[0m, in \u001b[0;36m_run\u001b[0;34m(dataset, model, store, hooks, validate, batch, batch_size, parallel, scheduler)\u001b[0m\n\u001b[1;32m    347\u001b[0m in_vars \u001b[38;5;241m=\u001b[39m _get_input_vars(ds_step, model)\n\u001b[1;32m    348\u001b[0m model\u001b[38;5;241m.\u001b[39mupdate_state(in_vars, validate\u001b[38;5;241m=\u001b[39mvalidate_inputs, ignore_static\u001b[38;5;241m=\u001b[39m\u001b[38;5;28;01mFalse\u001b[39;00m)\n\u001b[0;32m--> 349\u001b[0m signal \u001b[38;5;241m=\u001b[39m \u001b[43mmodel\u001b[49m\u001b[38;5;241;43m.\u001b[39;49m\u001b[43mexecute\u001b[49m\u001b[43m(\u001b[49m\u001b[38;5;124;43m\"\u001b[39;49m\u001b[38;5;124;43mrun_step\u001b[39;49m\u001b[38;5;124;43m\"\u001b[39;49m\u001b[43m,\u001b[49m\u001b[43m \u001b[49m\u001b[43mrt_context\u001b[49m\u001b[43m,\u001b[49m\u001b[43m \u001b[49m\u001b[38;5;241;43m*\u001b[39;49m\u001b[38;5;241;43m*\u001b[39;49m\u001b[43mexecute_kwargs\u001b[49m\u001b[43m)\u001b[49m\n\u001b[1;32m    351\u001b[0m \u001b[38;5;28;01mif\u001b[39;00m signal \u001b[38;5;241m==\u001b[39m RuntimeSignal\u001b[38;5;241m.\u001b[39mBREAK:\n\u001b[1;32m    352\u001b[0m     \u001b[38;5;28;01mbreak\u001b[39;00m\n",
      "File \u001b[0;32m/opt/anaconda3/envs/FastScapeEnvironment/lib/python3.10/site-packages/xsimlab/model.py:1023\u001b[0m, in \u001b[0;36mModel.execute\u001b[0;34m(self, stage, runtime_context, hooks, validate, parallel, scheduler)\u001b[0m\n\u001b[1;32m   1021\u001b[0m \u001b[38;5;28;01melse\u001b[39;00m:\n\u001b[1;32m   1022\u001b[0m     \u001b[38;5;28;01mfor\u001b[39;00m p_obj \u001b[38;5;129;01min\u001b[39;00m \u001b[38;5;28mself\u001b[39m\u001b[38;5;241m.\u001b[39m_processes\u001b[38;5;241m.\u001b[39mvalues():\n\u001b[0;32m-> 1023\u001b[0m         _, (_, signal_process) \u001b[38;5;241m=\u001b[39m \u001b[38;5;28;43mself\u001b[39;49m\u001b[38;5;241;43m.\u001b[39;49m\u001b[43m_execute_process\u001b[49m\u001b[43m(\u001b[49m\u001b[43mp_obj\u001b[49m\u001b[43m,\u001b[49m\u001b[43m \u001b[49m\u001b[38;5;241;43m*\u001b[39;49m\u001b[43mexecute_args\u001b[49m\u001b[43m)\u001b[49m\n\u001b[1;32m   1025\u001b[0m         \u001b[38;5;28;01mif\u001b[39;00m signal_process \u001b[38;5;241m==\u001b[39m RuntimeSignal\u001b[38;5;241m.\u001b[39mBREAK:\n\u001b[1;32m   1026\u001b[0m             \u001b[38;5;28;01mbreak\u001b[39;00m\n",
      "File \u001b[0;32m/opt/anaconda3/envs/FastScapeEnvironment/lib/python3.10/site-packages/xsimlab/model.py:842\u001b[0m, in \u001b[0;36mModel._execute_process\u001b[0;34m(self, p_obj, stage, runtime_context, hooks, validate, state)\u001b[0m\n\u001b[1;32m    839\u001b[0m \u001b[38;5;28;01mif\u001b[39;00m signal_pre\u001b[38;5;241m.\u001b[39mvalue \u001b[38;5;241m>\u001b[39m \u001b[38;5;241m0\u001b[39m:\n\u001b[1;32m    840\u001b[0m     \u001b[38;5;28;01mreturn\u001b[39;00m p_name, ({}, signal_pre)\n\u001b[0;32m--> 842\u001b[0m state_out, signal_out \u001b[38;5;241m=\u001b[39m \u001b[43mexecutor\u001b[49m\u001b[38;5;241;43m.\u001b[39;49m\u001b[43mexecute\u001b[49m\u001b[43m(\u001b[49m\n\u001b[1;32m    843\u001b[0m \u001b[43m    \u001b[49m\u001b[43mp_obj\u001b[49m\u001b[43m,\u001b[49m\u001b[43m \u001b[49m\u001b[43mstage\u001b[49m\u001b[43m,\u001b[49m\u001b[43m \u001b[49m\u001b[43mruntime_context\u001b[49m\u001b[43m,\u001b[49m\u001b[43m \u001b[49m\u001b[43mstate\u001b[49m\u001b[38;5;241;43m=\u001b[39;49m\u001b[43mstate\u001b[49m\n\u001b[1;32m    844\u001b[0m \u001b[43m\u001b[49m\u001b[43m)\u001b[49m\n\u001b[1;32m    846\u001b[0m signal_post \u001b[38;5;241m=\u001b[39m \u001b[38;5;28mself\u001b[39m\u001b[38;5;241m.\u001b[39m_call_hooks(hooks, runtime_context, stage, \u001b[38;5;124m\"\u001b[39m\u001b[38;5;124mprocess\u001b[39m\u001b[38;5;124m\"\u001b[39m, \u001b[38;5;124m\"\u001b[39m\u001b[38;5;124mpost\u001b[39m\u001b[38;5;124m\"\u001b[39m)\n\u001b[1;32m    847\u001b[0m \u001b[38;5;28;01mif\u001b[39;00m signal_post\u001b[38;5;241m.\u001b[39mvalue \u001b[38;5;241m>\u001b[39m signal_out\u001b[38;5;241m.\u001b[39mvalue:\n",
      "File \u001b[0;32m/opt/anaconda3/envs/FastScapeEnvironment/lib/python3.10/site-packages/xsimlab/process.py:530\u001b[0m, in \u001b[0;36m_ProcessExecutor.execute\u001b[0;34m(self, p_obj, stage, runtime_context, state)\u001b[0m\n\u001b[1;32m    528\u001b[0m     \u001b[38;5;28;01mreturn\u001b[39;00m {}, RuntimeSignal\u001b[38;5;241m.\u001b[39mNONE\n\u001b[1;32m    529\u001b[0m \u001b[38;5;28;01melse\u001b[39;00m:\n\u001b[0;32m--> 530\u001b[0m     signal_out \u001b[38;5;241m=\u001b[39m \u001b[43mexecutor\u001b[49m\u001b[38;5;241;43m.\u001b[39;49m\u001b[43mexecute\u001b[49m\u001b[43m(\u001b[49m\u001b[43mp_obj\u001b[49m\u001b[43m,\u001b[49m\u001b[43m \u001b[49m\u001b[43mruntime_context\u001b[49m\u001b[43m,\u001b[49m\u001b[43m \u001b[49m\u001b[43mstate\u001b[49m\u001b[38;5;241;43m=\u001b[39;49m\u001b[43mstate\u001b[49m\u001b[43m)\u001b[49m\n\u001b[1;32m    532\u001b[0m     skeys \u001b[38;5;241m=\u001b[39m [p_obj\u001b[38;5;241m.\u001b[39m__xsimlab_state_keys__[k] \u001b[38;5;28;01mfor\u001b[39;00m k \u001b[38;5;129;01min\u001b[39;00m \u001b[38;5;28mself\u001b[39m\u001b[38;5;241m.\u001b[39mout_vars]\n\u001b[1;32m    533\u001b[0m     sobj \u001b[38;5;241m=\u001b[39m p_obj\u001b[38;5;241m.\u001b[39m__xsimlab_state__\n",
      "File \u001b[0;32m/opt/anaconda3/envs/FastScapeEnvironment/lib/python3.10/site-packages/xsimlab/process.py:394\u001b[0m, in \u001b[0;36m_RuntimeMethodExecutor.execute\u001b[0;34m(self, p_obj, runtime_context, state)\u001b[0m\n\u001b[1;32m    390\u001b[0m     p_obj\u001b[38;5;241m.\u001b[39m__xsimlab_state__ \u001b[38;5;241m=\u001b[39m state\n\u001b[1;32m    392\u001b[0m args \u001b[38;5;241m=\u001b[39m [runtime_context[k] \u001b[38;5;28;01mfor\u001b[39;00m k \u001b[38;5;129;01min\u001b[39;00m \u001b[38;5;28mself\u001b[39m\u001b[38;5;241m.\u001b[39margs]\n\u001b[0;32m--> 394\u001b[0m signal \u001b[38;5;241m=\u001b[39m \u001b[38;5;28;43mself\u001b[39;49m\u001b[38;5;241;43m.\u001b[39;49m\u001b[43mmeth\u001b[49m\u001b[43m(\u001b[49m\u001b[43mp_obj\u001b[49m\u001b[43m,\u001b[49m\u001b[43m \u001b[49m\u001b[38;5;241;43m*\u001b[39;49m\u001b[43margs\u001b[49m\u001b[43m)\u001b[49m\n\u001b[1;32m    396\u001b[0m \u001b[38;5;28;01mif\u001b[39;00m signal \u001b[38;5;129;01mis\u001b[39;00m \u001b[38;5;28;01mNone\u001b[39;00m:\n\u001b[1;32m    397\u001b[0m     \u001b[38;5;28;01mreturn\u001b[39;00m RuntimeSignal\u001b[38;5;241m.\u001b[39mNONE\n",
      "File \u001b[0;32m/opt/anaconda3/envs/FastScapeEnvironment/lib/python3.10/site-packages/fastscape/processes/tectonics.py:106\u001b[0m, in \u001b[0;36mBlockUplift.run_step\u001b[0;34m(self, dt)\u001b[0m\n\u001b[1;32m    104\u001b[0m \u001b[38;5;129m@xs\u001b[39m\u001b[38;5;241m.\u001b[39mruntime(args\u001b[38;5;241m=\u001b[39m\u001b[38;5;124m\"\u001b[39m\u001b[38;5;124mstep_delta\u001b[39m\u001b[38;5;124m\"\u001b[39m)\n\u001b[1;32m    105\u001b[0m \u001b[38;5;28;01mdef\u001b[39;00m\u001b[38;5;250m \u001b[39m\u001b[38;5;21mrun_step\u001b[39m(\u001b[38;5;28mself\u001b[39m, dt):\n\u001b[0;32m--> 106\u001b[0m     rate \u001b[38;5;241m=\u001b[39m \u001b[43mnp\u001b[49m\u001b[38;5;241;43m.\u001b[39;49m\u001b[43mbroadcast_to\u001b[49m\u001b[43m(\u001b[49m\u001b[38;5;28;43mself\u001b[39;49m\u001b[38;5;241;43m.\u001b[39;49m\u001b[43mrate\u001b[49m\u001b[43m,\u001b[49m\u001b[43m \u001b[49m\u001b[38;5;28;43mself\u001b[39;49m\u001b[38;5;241;43m.\u001b[39;49m\u001b[43mshape\u001b[49m\u001b[43m)\u001b[49m \u001b[38;5;241m*\u001b[39m \u001b[38;5;28mself\u001b[39m\u001b[38;5;241m.\u001b[39m_mask\n\u001b[1;32m    108\u001b[0m     \u001b[38;5;28mself\u001b[39m\u001b[38;5;241m.\u001b[39muplift \u001b[38;5;241m=\u001b[39m rate \u001b[38;5;241m*\u001b[39m dt\n",
      "File \u001b[0;32m/opt/anaconda3/envs/FastScapeEnvironment/lib/python3.10/site-packages/numpy/lib/stride_tricks.py:413\u001b[0m, in \u001b[0;36mbroadcast_to\u001b[0;34m(array, shape, subok)\u001b[0m\n\u001b[1;32m    367\u001b[0m \u001b[38;5;129m@array_function_dispatch\u001b[39m(_broadcast_to_dispatcher, module\u001b[38;5;241m=\u001b[39m\u001b[38;5;124m'\u001b[39m\u001b[38;5;124mnumpy\u001b[39m\u001b[38;5;124m'\u001b[39m)\n\u001b[1;32m    368\u001b[0m \u001b[38;5;28;01mdef\u001b[39;00m\u001b[38;5;250m \u001b[39m\u001b[38;5;21mbroadcast_to\u001b[39m(array, shape, subok\u001b[38;5;241m=\u001b[39m\u001b[38;5;28;01mFalse\u001b[39;00m):\n\u001b[1;32m    369\u001b[0m \u001b[38;5;250m    \u001b[39m\u001b[38;5;124;03m\"\"\"Broadcast an array to a new shape.\u001b[39;00m\n\u001b[1;32m    370\u001b[0m \n\u001b[1;32m    371\u001b[0m \u001b[38;5;124;03m    Parameters\u001b[39;00m\n\u001b[0;32m   (...)\u001b[0m\n\u001b[1;32m    411\u001b[0m \u001b[38;5;124;03m           [1, 2, 3]])\u001b[39;00m\n\u001b[1;32m    412\u001b[0m \u001b[38;5;124;03m    \"\"\"\u001b[39;00m\n\u001b[0;32m--> 413\u001b[0m     \u001b[38;5;28;01mreturn\u001b[39;00m \u001b[43m_broadcast_to\u001b[49m\u001b[43m(\u001b[49m\u001b[43marray\u001b[49m\u001b[43m,\u001b[49m\u001b[43m \u001b[49m\u001b[43mshape\u001b[49m\u001b[43m,\u001b[49m\u001b[43m \u001b[49m\u001b[43msubok\u001b[49m\u001b[38;5;241;43m=\u001b[39;49m\u001b[43msubok\u001b[49m\u001b[43m,\u001b[49m\u001b[43m \u001b[49m\u001b[43mreadonly\u001b[49m\u001b[38;5;241;43m=\u001b[39;49m\u001b[38;5;28;43;01mTrue\u001b[39;49;00m\u001b[43m)\u001b[49m\n",
      "File \u001b[0;32m/opt/anaconda3/envs/FastScapeEnvironment/lib/python3.10/site-packages/numpy/lib/stride_tricks.py:349\u001b[0m, in \u001b[0;36m_broadcast_to\u001b[0;34m(array, shape, subok, readonly)\u001b[0m\n\u001b[1;32m    346\u001b[0m     \u001b[38;5;28;01mraise\u001b[39;00m \u001b[38;5;167;01mValueError\u001b[39;00m(\u001b[38;5;124m'\u001b[39m\u001b[38;5;124mall elements of broadcast shape must be non-\u001b[39m\u001b[38;5;124m'\u001b[39m\n\u001b[1;32m    347\u001b[0m                      \u001b[38;5;124m'\u001b[39m\u001b[38;5;124mnegative\u001b[39m\u001b[38;5;124m'\u001b[39m)\n\u001b[1;32m    348\u001b[0m extras \u001b[38;5;241m=\u001b[39m []\n\u001b[0;32m--> 349\u001b[0m it \u001b[38;5;241m=\u001b[39m \u001b[43mnp\u001b[49m\u001b[38;5;241;43m.\u001b[39;49m\u001b[43mnditer\u001b[49m\u001b[43m(\u001b[49m\n\u001b[1;32m    350\u001b[0m \u001b[43m    \u001b[49m\u001b[43m(\u001b[49m\u001b[43marray\u001b[49m\u001b[43m,\u001b[49m\u001b[43m)\u001b[49m\u001b[43m,\u001b[49m\u001b[43m \u001b[49m\u001b[43mflags\u001b[49m\u001b[38;5;241;43m=\u001b[39;49m\u001b[43m[\u001b[49m\u001b[38;5;124;43m'\u001b[39;49m\u001b[38;5;124;43mmulti_index\u001b[39;49m\u001b[38;5;124;43m'\u001b[39;49m\u001b[43m,\u001b[49m\u001b[43m \u001b[49m\u001b[38;5;124;43m'\u001b[39;49m\u001b[38;5;124;43mrefs_ok\u001b[39;49m\u001b[38;5;124;43m'\u001b[39;49m\u001b[43m,\u001b[49m\u001b[43m \u001b[49m\u001b[38;5;124;43m'\u001b[39;49m\u001b[38;5;124;43mzerosize_ok\u001b[39;49m\u001b[38;5;124;43m'\u001b[39;49m\u001b[43m]\u001b[49m\u001b[43m \u001b[49m\u001b[38;5;241;43m+\u001b[39;49m\u001b[43m \u001b[49m\u001b[43mextras\u001b[49m\u001b[43m,\u001b[49m\n\u001b[1;32m    351\u001b[0m \u001b[43m    \u001b[49m\u001b[43mop_flags\u001b[49m\u001b[38;5;241;43m=\u001b[39;49m\u001b[43m[\u001b[49m\u001b[38;5;124;43m'\u001b[39;49m\u001b[38;5;124;43mreadonly\u001b[39;49m\u001b[38;5;124;43m'\u001b[39;49m\u001b[43m]\u001b[49m\u001b[43m,\u001b[49m\u001b[43m \u001b[49m\u001b[43mitershape\u001b[49m\u001b[38;5;241;43m=\u001b[39;49m\u001b[43mshape\u001b[49m\u001b[43m,\u001b[49m\u001b[43m \u001b[49m\u001b[43morder\u001b[49m\u001b[38;5;241;43m=\u001b[39;49m\u001b[38;5;124;43m'\u001b[39;49m\u001b[38;5;124;43mC\u001b[39;49m\u001b[38;5;124;43m'\u001b[39;49m\u001b[43m)\u001b[49m\n\u001b[1;32m    352\u001b[0m \u001b[38;5;28;01mwith\u001b[39;00m it:\n\u001b[1;32m    353\u001b[0m     \u001b[38;5;66;03m# never really has writebackifcopy semantics\u001b[39;00m\n\u001b[1;32m    354\u001b[0m     broadcast \u001b[38;5;241m=\u001b[39m it\u001b[38;5;241m.\u001b[39mitviews[\u001b[38;5;241m0\u001b[39m]\n",
      "\u001b[0;31mValueError\u001b[0m: input operand has more dimensions than allowed by the axis remapping"
     ]
    }
   ],
   "source": [
    "with model, xs.monitoring.ProgressBar():\n",
    "    ds_out = (ds_in.xsimlab.run(model=model, store=zgroup))"
   ]
  },
  {
   "cell_type": "code",
   "execution_count": null,
   "metadata": {},
   "outputs": [],
   "source": []
  }
 ],
 "metadata": {
  "kernelspec": {
   "display_name": "Python 3 (ipykernel)",
   "language": "python",
   "name": "python3"
  },
  "language_info": {
   "codemirror_mode": {
    "name": "ipython",
    "version": 3
   },
   "file_extension": ".py",
   "mimetype": "text/x-python",
   "name": "python",
   "nbconvert_exporter": "python",
   "pygments_lexer": "ipython3",
   "version": "3.10.18"
  }
 },
 "nbformat": 4,
 "nbformat_minor": 4
}
