{
 "cells": [
  {
   "cell_type": "markdown",
   "id": "be4eaf55",
   "metadata": {},
   "source": [
    "## General Packages"
   ]
  },
  {
   "cell_type": "code",
   "execution_count": 1,
   "id": "2e6f6e86",
   "metadata": {},
   "outputs": [],
   "source": [
    "import pandas as pd\n",
    "import numpy as np\n",
    "import xarray as xr\n",
    "import xsimlab as xs\n",
    "import numba #for wrapping the function\n",
    "import zarr\n",
    "import matplotlib.pyplot as plt\n",
    "from scipy.stats import uniform\n",
    "from scipy.linalg import lstsq\n",
    "from ipyfastscape import TopoViz3d\n",
    "#%load_ext xsimlab.ipython\n",
    "#plt.style.use('default')\n",
    "from dask.diagnostics import ProgressBar\n",
    "from scipy.stats import gmean\n",
    "import sys\n",
    "import os"
   ]
  },
  {
   "cell_type": "markdown",
   "id": "f7ee327f",
   "metadata": {},
   "source": [
    "## 1) Import the Measured Data"
   ]
  },
  {
   "cell_type": "code",
   "execution_count": 2,
   "id": "917e54f0-8a26-48d7-915e-14b7ec06bb49",
   "metadata": {},
   "outputs": [
    {
     "name": "stdout",
     "output_type": "stream",
     "text": [
      "/Users/amandawild/Desktop/ClimateSignalPropagation_AlluvialFanGrainSize/Part2_GrapevineMountains/SetUp_MisfitInversion\n"
     ]
    }
   ],
   "source": [
    "print(os.getcwd())"
   ]
  },
  {
   "cell_type": "code",
   "execution_count": 3,
   "id": "a77931af-9cf4-45fc-a814-7dfada05d8d7",
   "metadata": {},
   "outputs": [
    {
     "name": "stdout",
     "output_type": "stream",
     "text": [
      "/Users/amandawild/Desktop/ClimateSignalPropagation_AlluvialFanGrainSize/Data_Darcyetal2017\n"
     ]
    }
   ],
   "source": [
    "#Run only once\n",
    "os.chdir('..')\n",
    "os.chdir('..')\n",
    "os.chdir('Data_Darcyetal2017')\n",
    "print(os.getcwd())"
   ]
  },
  {
   "cell_type": "code",
   "execution_count": 4,
   "id": "9858f36b",
   "metadata": {},
   "outputs": [],
   "source": [
    "# Load data from CSV files related to geomorphological features.\n",
    "Moonlight = pd.read_csv('Moonlight_holoQ2.csv')\n",
    "BackThrust = pd.read_csv('Backthrust_holoQ2.csv')\n",
    "EndofDataSetIndex=18\n",
    "\n",
    "# Remove NaN values from relevant columns in the datasets.\n",
    "def drop_na_columns(df):\n",
    "    return {col: df[col].dropna(inplace=False) for col in ['Distance', 'Elevation', 'Q2Distance', 'Q2Elevation']}\n",
    "\n",
    "moonlight_data = drop_na_columns(Moonlight)\n",
    "backthrust_data = drop_na_columns(BackThrust)\n",
    "\n",
    "# Calculate slopes based on elevation and distance data.\n",
    "def calculate_slope(elevation, distance):\n",
    "    return (elevation[0] - elevation[EndofDataSetIndex]) / (distance[EndofDataSetIndex] * 1000)\n",
    "\n",
    "MoonlightSlope = calculate_slope(moonlight_data['Elevation'], moonlight_data['Distance'])\n",
    "BackThrustSlope = calculate_slope(backthrust_data['Elevation'], backthrust_data['Distance'])\n",
    "BackThrustQ2Slope = calculate_slope(backthrust_data['Q2Elevation'], backthrust_data['Q2Distance'])\n",
    "MoonlightQ2Slope = calculate_slope(moonlight_data['Q2Elevation'], moonlight_data['Q2Distance'])\n",
    "\n",
    "# Define constants related to geomorphological measurements.\n",
    "#Taken directly from Darxy et al. 2019 and Frankel et al.2007\n",
    "#D’Arcy, M., Whittaker, A.C., and Roda-Boluda, D.C., 2017, Measuring alluvial fan sensitivity to past climate changes using a self-similarity approach to grain-size fining, Death Valley, California: Sedimentology, v. 64, no. 1, p. 388–424, https://doi.org/10.1111/sed.12308.\n",
    "#Frankel, K.L., Brantley, K.S., Dolan, J.F., Finkel, R.C., Klinger, R.E., Knott, J.R., Machette, M.N., Owen, L.A., Phillips, F.M., Slate, J.L., et al., 2007, Cosmogenic 10Be and 36Cl geochronology of offset alluvial fans along the northern Death Valley fault zone: Implications for transient strain in the eastern California shear zone: Journal of Geophysical Research: Solid Earth, v. 112, no. B8, https://doi.org/10.1029/2006JB004350.\n",
    "ERMeasured = 0.000065\n",
    "ERerror = 0.00002\n",
    "MoonLightBaseLevel = 200  # Approximate base level at river\n",
    "BackthrustBaseLevel = 325\n",
    "MeanBaselevel = (MoonLightBaseLevel + BackthrustBaseLevel) / 2\n",
    "\n",
    "# Measured using Darcy et al. 2019 profiles and  Verified in google earth \n",
    "#Measured using a freeely available DEM and Verified in google earth\n",
    "FanMeasured = 723  \n",
    "FanError = 200  \n",
    "MeanMountainHeight = 1408  \n",
    "MaxMountainHeight = 2665  \n",
    "MaxOrogenError = 400  \n",
    "\n",
    "AvgApexGS = (BackThrust.MEAND.max() + BackThrust.Q2MEAND.max() + Moonlight.MEAND.max() + Moonlight.Q2MEAND.max()) / 4\n",
    "\n",
    "# Calculate measured slope error between Q2 and standard slopes\n",
    "MeasuredSlopeError = np.round(np.sqrt(np.max(np.array([((MoonlightQ2Slope * 100) - (MoonlightSlope * 100))**2,\n",
    "          ((BackThrustSlope * 100) - (BackThrustQ2Slope * 100))**2,\n",
    "                                              ((BackThrustSlope * 100) - (MoonlightSlope * 100))**2,\n",
    "                                              ((BackThrustQ2Slope * 100) - (MoonlightQ2Slope * 100))**2\n",
    "                                             ]))),1)\n",
    "#(MoonlightQ2Slope * 100) - (MoonlightSlope * 100)\n",
    "\n",
    "# Calculate errors based on grain size differences at the apex\n",
    "GSError = np.round(np.sqrt(np.max([(BackThrust.MEAND[0] - Moonlight.MEAND[0]) ** 2,\n",
    "                  (BackThrust.Q2MEAND[0] - Moonlight.Q2MEAND[0]) ** 2,\n",
    "                          (BackThrust.Q2MEAND[0] - BackThrust.MEAND[0]) ** 2,\n",
    "                          (Moonlight.Q2MEAND[0] - Moonlight.MEAND[0]) ** 2, \n",
    "                 ])))"
   ]
  },
  {
   "cell_type": "code",
   "execution_count": 5,
   "id": "3c81aeb8-eb5e-4687-945c-e4d9d60cdf0f",
   "metadata": {},
   "outputs": [],
   "source": [
    "# last_valid_indexB = np.where(~np.isnan(BackThrust.MEAND))[0][-1]\n",
    "# last_valid_indexBQ = np.where(~np.isnan(BackThrust.Q2MEAND))[0][-1]\n",
    "# #\n",
    "# last_valid_indexM = np.where(~np.isnan(Moonlight.MEAND))[0][-1]\n",
    "# last_valid_indexMQ = np.where(~np.isnan(Moonlight.Q2MEAND))[0][-1]\n",
    "# GSError2 = np.round(np.sqrt(np.max([(BackThrust.MEAND[last_valid_indexB] - Moonlight.MEAND[last_valid_indexM]) ** 2,\n",
    "#                   (BackThrust.Q2MEAND[last_valid_indexBQ] - Moonlight.Q2MEAND[last_valid_indexMQ]) ** 2,\n",
    "#                           (BackThrust.Q2MEAND[last_valid_indexBQ] - BackThrust.MEAND[last_valid_indexB]) ** 2,\n",
    "#                           (Moonlight.Q2MEAND[last_valid_indexMQ] - Moonlight.MEAND[last_valid_indexM]) ** 2, \n",
    "#                  ])))"
   ]
  },
  {
   "cell_type": "markdown",
   "id": "8b7421d2",
   "metadata": {},
   "source": [
    "## 2) Prepare the Death VAlley Fastscape/GravelScape model Set Up"
   ]
  },
  {
   "cell_type": "markdown",
   "id": "110d2e7f",
   "metadata": {},
   "source": [
    "## import model packages"
   ]
  },
  {
   "cell_type": "code",
   "execution_count": 6,
   "id": "e84f11d0-e01f-476c-8b9b-945a1da8edbb",
   "metadata": {},
   "outputs": [
    {
     "name": "stdout",
     "output_type": "stream",
     "text": [
      "/Users/amandawild/Desktop/ClimateSignalPropagation_AlluvialFanGrainSize/Part2_GrapevineMountains/SetUp_MisfitInversion\n"
     ]
    }
   ],
   "source": [
    "#\n",
    "os.chdir('..')\n",
    "os.chdir('Part2_GrapevineMountains/SetUp_MisfitInversion')\n",
    "print(os.getcwd())"
   ]
  },
  {
   "cell_type": "code",
   "execution_count": 9,
   "id": "e91b05c8",
   "metadata": {},
   "outputs": [],
   "source": [
    "#The GravelScape Model"
   ]
  },
  {
   "cell_type": "code",
   "execution_count": 29,
   "id": "f2a1614f-cfda-421e-917f-380e8b6e9dc7",
   "metadata": {},
   "outputs": [],
   "source": [
    "from GravelScape import GravelGSN"
   ]
  },
  {
   "cell_type": "code",
   "execution_count": 30,
   "id": "a7920b5b",
   "metadata": {},
   "outputs": [],
   "source": [
    "#from fastscape.models import basic_model\n",
    "from fastscape.models import sediment_model\n",
    "from fastscape.processes import FlowAccumulator\n",
    "from fastscape.processes import (MultipleFlowRouter)\n",
    "from fastscape.processes import (Bedrock)\n",
    "from fastscape.processes import (DrainageArea)\n",
    "#from fastscape.processes import StratigraphicHorizons\n",
    "model = sediment_model.update_processes({'flow': MultipleFlowRouter,\n",
    "                                         'GravelGSN':GravelGSN,\n",
    "                                         #'strati': StratigraphicHorizons,\n",
    "                                         'bedrock':Bedrock})"
   ]
  },
  {
   "cell_type": "code",
   "execution_count": null,
   "id": "36edce7b",
   "metadata": {},
   "outputs": [],
   "source": []
  },
  {
   "cell_type": "markdown",
   "id": "f37a6f19",
   "metadata": {},
   "source": [
    "## Set up the spatial and temporal constraints of the model set up"
   ]
  },
  {
   "cell_type": "code",
   "execution_count": 31,
   "id": "d5e6e5b8",
   "metadata": {},
   "outputs": [],
   "source": [
    "### temporal"
   ]
  },
  {
   "cell_type": "code",
   "execution_count": 32,
   "id": "01a7d13f",
   "metadata": {},
   "outputs": [
    {
     "name": "stdout",
     "output_type": "stream",
     "text": [
      "Number of time steps: 1700.0\n",
      "Number of outputs: 340.0\n"
     ]
    }
   ],
   "source": [
    "tf=17e6 #duration of fault activity \n",
    "TimeStep=5000 #yrs\n",
    "timestepbtw_simulation= 10000 #50000 matched the data best\n",
    "ntime=int(tf/timestepbtw_simulation)+1\n",
    "timestepbtw_output=timestepbtw_simulation*5\n",
    "nout=int(tf/timestepbtw_output)+1\n",
    "print('Number of time steps:',tf/timestepbtw_simulation)\n",
    "print('Number of outputs:',tf/timestepbtw_output)"
   ]
  },
  {
   "cell_type": "code",
   "execution_count": 33,
   "id": "c8a19a6b",
   "metadata": {},
   "outputs": [],
   "source": [
    "# Determine Steady State Averaging interval\n",
    "Steady=tf*0.9\n",
    "Steadytime=int(((tf-Steady)/(tf/nout-1))+1)\n",
    "SteadytimeLEN=len(np.linspace(Steady,tf,int(Steadytime)))"
   ]
  },
  {
   "cell_type": "code",
   "execution_count": 34,
   "id": "a0e4acbe",
   "metadata": {},
   "outputs": [],
   "source": [
    "### Spatial"
   ]
  },
  {
   "cell_type": "code",
   "execution_count": 35,
   "id": "4ce5e68e",
   "metadata": {},
   "outputs": [
    {
     "name": "stdout",
     "output_type": "stream",
     "text": [
      "Min. Number of Cells Across basin, down basin, or down mountain 40\n",
      "2D Channel dynamics in the basin are possible True\n",
      "The grid cells are square [ True  True]\n"
     ]
    }
   ],
   "source": [
    "#Real World Data\n",
    "MeanFanorCatchmentWidth=2e3#2.5e3 #meters\n",
    "NumberofFansorCatchments=2#2.8\n",
    "wm = 17e3 # width of the mountain (in m)\n",
    "wb = 7e3 # with of the basin (in m)\n",
    "\n",
    "CellSize=100 #Width of larger channels #m \n",
    "Boundary=['core','fixed_value','looped','looped']\n",
    "\n",
    "#Convert this to model Inputs\n",
    "xl = wm+wb # xl, length of the grid in the x-direction \n",
    "yl = MeanFanorCatchmentWidth*NumberofFansorCatchments # yl, length of the mesh in the y-direction \n",
    "nx=int(xl/CellSize)+1 #(ranges between 2 (over 20 for channel dynamics) to ~1000.)\n",
    "ny=int(yl/CellSize)+1 #(ranges between 2(over 20 for channel dynamics) to ~1000.)\n",
    "x, y = np.meshgrid(np.linspace(0,xl,nx), np.linspace(0,yl,ny)) # creates an x,y mesh\n",
    "Boundary=['core','fixed_value','looped','looped']\n",
    "\n",
    "print('Min. Number of Cells Across basin, down basin, or down mountain', int(np.min([wb,wm,yl])/(CellSize)))\n",
    "print('2D Channel dynamics in the basin are possible',np.where(int(np.min([wb,yl])/(CellSize)>20),'True','False'))\n",
    "print('The grid cells are square',(x[0,0:2])==(y[0:2,0]))"
   ]
  },
  {
   "cell_type": "code",
   "execution_count": 36,
   "id": "2a284208",
   "metadata": {},
   "outputs": [],
   "source": [
    "# Additional processes that can be updated after defining the spatial/temporal constraints"
   ]
  },
  {
   "cell_type": "code",
   "execution_count": 37,
   "id": "bf173488",
   "metadata": {},
   "outputs": [],
   "source": [
    "#Reduce Precip\n",
    "#Oscillate Precip over time (with the option for irragular intervals)\n",
    "from fastscape.processes import FlowAccumulator\n",
    "model=model.update_processes({'drainage': FlowAccumulator})\n",
    "\n",
    "CatchmentPrecip1=1#0.65610394\n",
    "BasinPrecip=1\n",
    "\n",
    "time = np.linspace(0, tf, ntime)\n",
    "pr = xr.DataArray(np.where(\n",
    "    (x[np.newaxis,:, :]<wm)&\n",
    "    (time[:,np.newaxis,np.newaxis] <=tf),\n",
    "    CatchmentPrecip1,BasinPrecip),\n",
    "                  dims=['time','y','x'])"
   ]
  },
  {
   "cell_type": "code",
   "execution_count": 38,
   "id": "e76efbb5",
   "metadata": {},
   "outputs": [],
   "source": [
    "h0 = np.ones([ny,nx]) \n",
    "model=model.drop_processes('init_topography')"
   ]
  },
  {
   "cell_type": "code",
   "execution_count": 39,
   "id": "d7a3b9b5",
   "metadata": {},
   "outputs": [],
   "source": [
    "# FastScape"
   ]
  },
  {
   "cell_type": "code",
   "execution_count": 40,
   "id": "d383d30c",
   "metadata": {},
   "outputs": [],
   "source": [
    "def run_fastscape_FinalStep(Kb,Ks,s0,alpha,U,G,h0=h0,tf=tf,ntime=ntime,Steady=Steady,Steadytime=Steadytime,ny=ny,nx=nx,yl=yl,wm=wm,wb=wb,xl=xl,x=x):\n",
    "\n",
    "    ds_in = xs.create_setup(\n",
    "        model=model,\n",
    "        clocks={'time': np.linspace(0,tf,ntime),\n",
    "               'out': np.linspace(Steady,tf,int(Steadytime))},\n",
    "        master_clock = 'time',\n",
    "        input_vars={\n",
    "            # nb. of grid nodes in (y, x)\n",
    "            'grid__shape': [ny,nx],\n",
    "            # total grid length in (y, x)\n",
    "            'grid__length': [yl,xl],\n",
    "            # node status at borders\n",
    "            'boundary__status': ['core','fixed_value','looped','looped'],\n",
    "            # uplift rate\n",
    "            'uplift__rate': xr.DataArray(np.where(x<wm, U, -s0*np.exp(-(x-wm)/wb*alpha)),dims=['y','x']), ##xr.DataArray(np.where(s==0, U[np.newaxis,np.newaxis], s[:,:]),dims=['y','x']), #\n",
    "            # random seed\n",
    "            #'init_topography__seed': None,\n",
    "            'topography__elevation': h0*262.5,\n",
    "            # MFD partioner slope exponent\n",
    "            'flow__slope_exp': 1.0,\n",
    "            # drainage area exponent\n",
    "            'spl__area_exp': 0.4,\n",
    "            # slope exponent\n",
    "            'spl__slope_exp': 1,\n",
    "            # bedrock channel incision coefficient\n",
    "            'spl__k_coef_bedrock': (Kb),#4e-5,\n",
    "            # soil (sediment) channel incision coefficient\n",
    "            'spl__k_coef_soil': Ks,#K_s, #0.5e-5,\n",
    "            # detached bedrock transport/deposition coefficient\n",
    "            'spl__g_coef_bedrock': G,#0.8,\n",
    "            # soil (sediment) transport/deposition coefficient\n",
    "            'spl__g_coef_soil': G,\n",
    "            # bedrock diffusivity\n",
    "            'diffusion__diffusivity_bedrock': 0,#(0.03),\n",
    "            # soil (sediment) diffusivity\n",
    "            'diffusion__diffusivity_soil': 0,#0.1,\n",
    "            # The bedrock source D50 grain size\n",
    "            'GravelGSN__D0': 1,\n",
    "            # The bedrock source grain size standard deviation\n",
    "            'GravelGSN__SD0': 0.8, #18.09/33.3=0.54?? #0.75 default\n",
    "            # Cv (grain size calculation constant) described in Fedele and Paola (2007) and Duller\n",
    "            # et al. (2010)\n",
    "            'GravelGSN__Cv': 0.8, #Darcy\n",
    "            # C1 (grain size calculation constant) described in Fedele and Paola (2007) and Duller\n",
    "            # et al. (2010)\n",
    "            'GravelGSN__C1': 0.7, #Darcy\n",
    "            # Porosity\n",
    "            'GravelGSN__porosity': 0.3,\n",
    "            # runoff\n",
    "            'drainage__runoff':1 #xr.DataArray(np.where(x<wm,PR,1), dims=['y','x']) ,\n",
    "\n",
    "        },\n",
    "        output_vars={'topography__elevation': 'out',\n",
    "                     'GravelGSN__DMean': 'out',\n",
    "                     'GravelGSN__DTIME': 'out',\n",
    "                     'drainage__flowacc': 'out',\n",
    "                     'erosion__rate': 'out',\n",
    "                    }\n",
    "    )\n",
    "    out_ds = (ds_in.xsimlab.run(model=model))\n",
    "    return out_ds"
   ]
  },
  {
   "cell_type": "markdown",
   "id": "ae756310",
   "metadata": {},
   "source": [
    "## 3) Calculate the Misfit"
   ]
  },
  {
   "cell_type": "code",
   "execution_count": 41,
   "id": "d9865781",
   "metadata": {},
   "outputs": [],
   "source": [
    "from mango import scheduler, Tuner\n",
    "from mango.domain.distribution import loguniform"
   ]
  },
  {
   "cell_type": "code",
   "execution_count": 42,
   "id": "640ce477",
   "metadata": {},
   "outputs": [],
   "source": [
    "# Prepare arrays for misfit calculations.\n",
    "# Parameter space definition for optimization using Mango's Tuner.\n",
    "#Option to change the range and run the optimizer again to further the analysis and in case of local minina issues. \n",
    "param_space = {\n",
    "    'Kb': loguniform(5e-7, 5e-6), #logunifrom or unifrom\n",
    "    'Ks': loguniform(5e-7, 5e-6),\n",
    "    's0': uniform(0.00005, 0.00015),\n",
    "    'alpha': uniform(0.3,3),\n",
    "    'U': uniform(0.000135, 0.000155),\n",
    "    'G': uniform(0.3,3)\n",
    "}\n",
    "# Define model indices for fan slope calculations\n",
    "startfan = 170\n",
    "endfan = -1"
   ]
  },
  {
   "cell_type": "code",
   "execution_count": 43,
   "id": "97d880ab",
   "metadata": {},
   "outputs": [],
   "source": [
    "#Prep for the misfit (make arrays)\n",
    "BackThrustGSIndex=(np.array(round(BackThrust.Distance[:-2]*10)).astype(int))\n",
    "BackThrustQ2GSIndex=(np.array(round(BackThrust.Q2Distance*10)).astype(int))\n",
    "MoonlightQ2GSIndex=(np.array(round(Moonlight.Q2Distance*10)).astype(int))\n",
    "MoonlightGSIndex=(np.array(round(Moonlight.Distance[:-2]*10)).astype(int))\n",
    "#\n",
    "MoonlightGSMisfit=np.ones_like(MoonlightGSIndex).astype(float)\n",
    "MoonlightQ2GSMisfit=np.ones_like(MoonlightQ2GSIndex).astype(float)\n",
    "BackThrustGSMisfit=np.ones_like(BackThrustGSIndex).astype(float)\n",
    "BackThrustQ2GSMisfit=np.ones_like(BackThrustQ2GSIndex).astype(float)\n",
    "#\n",
    "MeanMoonlightGSMisfit=np.ones_like(MoonlightGSIndex).astype(float)\n",
    "MeanMoonlightQ2GSMisfit=np.ones_like(MoonlightQ2GSIndex).astype(float)\n",
    "MeanBackThrustGSMisfit=np.ones_like(BackThrustGSIndex).astype(float)\n",
    "MeanBackThrustQ2GSMisfit=np.ones_like(BackThrustQ2GSIndex).astype(float)\n",
    "#\n",
    "MoonlightTopoMisfit=np.ones_like(MoonlightGSIndex).astype(float)\n",
    "MoonlightQ2TopoMisfit=np.ones_like(MoonlightQ2GSIndex).astype(float)\n",
    "BackThrustTopoMisfit=np.ones_like(BackThrustGSIndex).astype(float)\n",
    "BackThrustQ2TopoMisfit=np.ones_like(BackThrustQ2GSIndex).astype(float)\n",
    "#"
   ]
  },
  {
   "cell_type": "code",
   "execution_count": 44,
   "id": "d7288ca3-17b3-407a-ab38-c07549094cc8",
   "metadata": {},
   "outputs": [],
   "source": [
    "# For more information of the mango inversion method please see: \n",
    "#https://github.com/ARM-software/mango (Sandha et al. 2020; 2021)"
   ]
  },
  {
   "cell_type": "code",
   "execution_count": null,
   "id": "8ceb80c3-1997-45bd-aa2a-4172156df195",
   "metadata": {},
   "outputs": [],
   "source": []
  },
  {
   "cell_type": "code",
   "execution_count": 45,
   "id": "8b66006a",
   "metadata": {},
   "outputs": [],
   "source": [
    "from mango import scheduler, Tuner\n",
    "from mango.domain.distribution import loguniform\n",
    "from scipy.stats import uniform\n",
    "\n",
    "@scheduler.parallel(n_jobs=-1)\n",
    "def obj(Kb,Ks,s0,alpha,U,G):\n",
    "    #Run Fastscape with the new parameters\n",
    "    out_elevation = run_fastscape_FinalStep(Kb,Ks,s0,alpha,U,G)\n",
    "    #Analyze the topographic parameters\n",
    "    Topo=xr.DataArray(out_elevation.topography__elevation.values,dims=['out','y','x'])\n",
    "    Topo=Topo.mean('y') #final out step\n",
    "    FanSlope=Topo.isel(x=slice(startfan,endfan)).isel(out=-1).differentiate('x').values\n",
    "    LowSlope=np.sum(np.where((FanSlope*-1)<0.001,1,0))/71\n",
    "    #GS=GS.mean('out').mean('y')#average of frinal 10% of simulation\n",
    "    ModelMountainTopo=(Topo.isel(x=slice(0,startfan-1)).isel(out=-1).mean().values)\n",
    "    MaxOrogen=(Topo.isel(x=slice(0,startfan-1)).isel(out=-1).max().values)\n",
    "    FanApex=(Topo.isel(x=slice(startfan,startfan+10)).isel(out=-1).max().values)\n",
    "    FanMinEl=(Topo.isel(x=slice(startfan,-1)).isel(out=-1).min().values)\n",
    "    #Analyze the catchment wide erosion rates\n",
    "    ER=xr.DataArray(out_elevation.erosion__rate.values,dims=['out','y','x'])\n",
    "    ER2=ER.isel(x=slice(0,startfan-1)).isel(out=-1).mean('y').mean('x').values\n",
    "    #Analyze the grain size fining in the larger channels and across all channels\n",
    "    Drainage=xr.DataArray(out_elevation.drainage__flowacc.values,dims=['out','y','x']).isel(x=slice(startfan,endfan)).isel(out=slice(-20,-1))\n",
    "    GS=xr.DataArray(out_elevation.GravelGSN__DMean.values,dims=['out','y','x']).isel(x=slice(startfan,endfan)).isel(out=slice(-20,-1))\n",
    "    GSMean=GS.mean('out').mean('y')  \n",
    "    FinaloutGmeanQ=gmean(Drainage.mean('out').mean('y')) \n",
    "    BinaryQ=xr.DataArray(np.where(Drainage>=FinaloutGmeanQ,1,0),dims=['out','y','x'])\n",
    "    GS_LargeChannels=xr.DataArray(np.where(BinaryQ==1,GS,np.nan),dims=['out','y','x'])\n",
    "    GS_LargeChannels=GS_LargeChannels.mean('out').mean('y')\n",
    "    #\n",
    "    # CALCULATE THE MISFIT\n",
    "    #Check for local minima and flat topography and assign a high misfit to avoid these simulations \n",
    "    if (ModelMountainTopo<1) or (FanApex<1)or (FanMinEl<1):\n",
    "        TotalMisfit=9999 \n",
    "        TotalMisfit2=9999\n",
    "    elif (LowSlope>0.1):\n",
    "        TotalMisfit=9999\n",
    "        TotalMisfit2=9999\n",
    "    else: #Calculate the misfit\n",
    "        for i in range(0,len(MoonlightGSIndex)):\n",
    "            MoonlightGSMisfit[i]=((np.array(Moonlight.MEAND[i])-\n",
    "                           (GS_LargeChannels*AvgApexGS)[MoonlightGSIndex[i]])**2)/GSError\n",
    "            BackThrustGSMisfit[i]=((np.array(BackThrust.MEAND[i])-\n",
    "                           (GS_LargeChannels*AvgApexGS)[BackThrustGSIndex[i]])**2)/GSError\n",
    "            MeanMoonlightGSMisfit[i]=((np.array(Moonlight.MEAND[i])-\n",
    "                           (GSMean*AvgApexGS)[MoonlightGSIndex[i]])**2)/GSError\n",
    "            MeanBackThrustGSMisfit[i]=((np.array(BackThrust.MEAND[i])-\n",
    "                           (GSMean*AvgApexGS)[BackThrustGSIndex[i]])**2)/GSError\n",
    "            MoonlightTopoMisfit[i]=((Moonlight.Elevation[i]-(Topo.isel(x=slice(startfan,endfan)).isel(out=-1)[MoonlightGSIndex[i]]))**2)/(FanError**2)\n",
    "            BackThrustTopoMisfit[i]=((BackThrust.Elevation[i]-(Topo.isel(x=slice(startfan,endfan)).isel(out=-1)[BackThrustGSIndex[i]]))**2)/(FanError**2)\n",
    "            \n",
    "        for i in range(0,len(MoonlightQ2GSIndex)):\n",
    "            MoonlightQ2GSMisfit[i]=((np.array(Moonlight.Q2MEAND[i])-\n",
    "                           (GS_LargeChannels*AvgApexGS)[MoonlightQ2GSIndex[i]])**2)/GSError\n",
    "            BackThrustQ2GSMisfit[i]=((np.array(BackThrust.Q2MEAND[i])-\n",
    "                           (GS_LargeChannels*AvgApexGS)[BackThrustQ2GSIndex[i]])**2)/GSError\n",
    "            MeanMoonlightQ2GSMisfit[i]=((np.array(Moonlight.Q2MEAND[i])-\n",
    "                           (GSMean*AvgApexGS)[MoonlightQ2GSIndex[i]])**2)/GSError\n",
    "            MeanBackThrustQ2GSMisfit[i]=((np.array(BackThrust.Q2MEAND[i])-\n",
    "                           (GSMean*AvgApexGS)[BackThrustQ2GSIndex[i]])**2)/GSError\n",
    "            MoonlightQ2TopoMisfit[i]=((Moonlight.Q2Elevation[i]-(Topo.isel(x=slice(startfan,endfan)).isel(out=-1)[MoonlightQ2GSIndex[i]]))**2)/(FanError**2)\n",
    "            BackThrustQ2TopoMisfit[i]=((BackThrust.Q2Elevation[i]-(Topo.isel(x=slice(startfan,endfan)).isel(out=-1)[BackThrustQ2GSIndex[i]]))**2)/(FanError**2)  \n",
    "        Moonslope=((np.nanmean(FanSlope[1:]*-1)-(MoonlightSlope*100))/MeasuredSlopeError)**2\n",
    "        MoonslopeQ2=((np.nanmean(FanSlope[1:]*-1)-(MoonlightQ2Slope*100))/MeasuredSlopeError)**2\n",
    "        BackthrustQ2slope=((np.nanmean(FanSlope[1:]*-1)-(BackThrustQ2Slope*100))/MeasuredSlopeError)**2\n",
    "        Backthrustslope=((np.nanmean(FanSlope[1:]*-1)-(BackThrustSlope*100))/MeasuredSlopeError)**2\n",
    "        #\n",
    "        FanSlopeMisfit=np.nanmean([Moonslope,MoonslopeQ2,BackthrustQ2slope,Backthrustslope])\n",
    "        ChannelGSFit=np.nanmean([(np.nanmean(BackThrustGSMisfit),np.nanmean(BackThrustQ2GSMisfit),np.nanmean(MoonlightGSMisfit),np.nanmean(MoonlightQ2GSMisfit))])\n",
    "        MeanGSFit=np.nanmean([(np.nanmean(MeanBackThrustGSMisfit),np.nanmean(MeanBackThrustQ2GSMisfit),np.nanmean(MeanMoonlightGSMisfit),np.nanmean(MeanMoonlightQ2GSMisfit))])\n",
    "        fanmisfit=np.nanmean([(np.nanmean(BackThrustTopoMisfit),np.nanmean(BackThrustQ2TopoMisfit),np.nanmean(MoonlightTopoMisfit),np.nanmean(MoonlightQ2TopoMisfit))])\n",
    "        #((FanApex-FanMeasured)/FanError)**2\n",
    "        ERMisfit=((ER2-ERMeasured)/ERerror)**2\n",
    "        OTopoMisfit=((MaxOrogen-MaxMountainHeight)/MeanBaselevel)**2\n",
    "        #\n",
    "        #THE FINAL MISFIT\n",
    "        TotalMisfit=(ChannelGSFit+fanmisfit+ERMisfit+OTopoMisfit)/4\n",
    "        TotalMisfit2=(ChannelGSFit+fanmisfit+ERMisfit+OTopoMisfit+FanSlopeMisfit+MeanGSFit)/6\n",
    "        #\n",
    "        # Save the datasets\n",
    "        print(\"Writing ChannelGSMisfits.txt...\")\n",
    "        with open('ChannelGSMisfit.txt', 'a') as f:\n",
    "            print(str(ChannelGSFit), file=f)\n",
    "        f.close()\n",
    "        #\n",
    "        with open('GMisfit.txt', 'a') as f:\n",
    "            print(str(G), file=f)\n",
    "        f.close()\n",
    "        #\n",
    "        with open('MeanGSMisfit.txt', 'a') as f:\n",
    "            print(str(MeanGSFit), file=f)\n",
    "        f.close()\n",
    "        #\n",
    "        with open('fanElevationmisfit.txt', 'a') as f:\n",
    "            print(str(fanmisfit), file=f)\n",
    "        f.close()\n",
    "        with open('FanSlopeMisfit.txt', 'a') as f:\n",
    "            print(str(FanSlopeMisfit), file=f)\n",
    "        f.close()\n",
    "        with open('ERMisfit.txt', 'a') as f:\n",
    "            print(str(ERMisfit), file=f)\n",
    "        f.close()\n",
    "        with open('OTopoMisfit.txt', 'a') as f:\n",
    "            print(str(OTopoMisfit), file=f)\n",
    "        f.close()\n",
    "        with open('TotalMisfit.txt', 'a') as f:\n",
    "            print(str(TotalMisfit), file=f)\n",
    "        f.close()\n",
    "        with open('TotalMisfit2.txt', 'a') as f:\n",
    "            print(str(TotalMisfit2), file=f)\n",
    "        f.close()\n",
    "        with open('Kbs.txt', 'a') as f:\n",
    "            print(str(Kb), file=f)\n",
    "        f.close()\n",
    "        with open('Kss.txt', 'a') as f:\n",
    "            print(str(Ks), file=f)\n",
    "        f.close()\n",
    "        with open('Us.txt', 'a') as f:\n",
    "            print(str(U), file=f)\n",
    "        f.close()\n",
    "        with open('S0s.txt', 'a') as f:\n",
    "            print(str(s0), file=f)\n",
    "        f.close()\n",
    "        with open('Alphas.txt', 'a') as f:\n",
    "            print(str(alpha), file=f)\n",
    "        f.close()\n",
    "    return TotalMisfit #TotalMisfit2\n",
    "\n",
    "  "
   ]
  },
  {
   "cell_type": "code",
   "execution_count": 46,
   "id": "4ecf42be",
   "metadata": {},
   "outputs": [
    {
     "name": "stderr",
     "output_type": "stream",
     "text": [
      "/opt/anaconda3/envs/FastScapeEnvironment/lib/python3.10/site-packages/xsimlab/xr_accessor.py:229: FutureWarning: variable 'time' with name matching its dimension will not be automatically converted into an `IndexVariable` object in the future.\n",
      "  xr_var = as_variable(data, name=dim)\n",
      "/opt/anaconda3/envs/FastScapeEnvironment/lib/python3.10/site-packages/xsimlab/xr_accessor.py:229: FutureWarning: variable 'time' with name matching its dimension will not be automatically converted into an `IndexVariable` object in the future.\n",
      "  xr_var = as_variable(data, name=dim)\n",
      "/opt/anaconda3/envs/FastScapeEnvironment/lib/python3.10/site-packages/xsimlab/xr_accessor.py:229: FutureWarning: variable 'out' with name matching its dimension will not be automatically converted into an `IndexVariable` object in the future.\n",
      "  xr_var = as_variable(data, name=dim)\n",
      "/opt/anaconda3/envs/FastScapeEnvironment/lib/python3.10/site-packages/xsimlab/xr_accessor.py:229: FutureWarning: variable 'out' with name matching its dimension will not be automatically converted into an `IndexVariable` object in the future.\n",
      "  xr_var = as_variable(data, name=dim)\n"
     ]
    },
    {
     "data": {
      "application/vnd.jupyter.widget-view+json": {
       "model_id": "c6511e9a385d400ab907ba4f66c81da2",
       "version_major": 2,
       "version_minor": 0
      },
      "text/plain": [
       "  0%|          | 0/20 [00:00<?, ?it/s]"
      ]
     },
     "metadata": {},
     "output_type": "display_data"
    },
    {
     "name": "stderr",
     "output_type": "stream",
     "text": [
      "/opt/anaconda3/envs/FastScapeEnvironment/lib/python3.10/site-packages/xsimlab/xr_accessor.py:229: FutureWarning: variable 'time' with name matching its dimension will not be automatically converted into an `IndexVariable` object in the future.\n",
      "  xr_var = as_variable(data, name=dim)\n",
      "/opt/anaconda3/envs/FastScapeEnvironment/lib/python3.10/site-packages/xsimlab/xr_accessor.py:229: FutureWarning: variable 'out' with name matching its dimension will not be automatically converted into an `IndexVariable` object in the future.\n",
      "  xr_var = as_variable(data, name=dim)\n",
      "/opt/anaconda3/envs/FastScapeEnvironment/lib/python3.10/site-packages/xsimlab/xr_accessor.py:229: FutureWarning: variable 'time' with name matching its dimension will not be automatically converted into an `IndexVariable` object in the future.\n",
      "  xr_var = as_variable(data, name=dim)\n",
      "/opt/anaconda3/envs/FastScapeEnvironment/lib/python3.10/site-packages/xsimlab/xr_accessor.py:229: FutureWarning: variable 'out' with name matching its dimension will not be automatically converted into an `IndexVariable` object in the future.\n",
      "  xr_var = as_variable(data, name=dim)\n",
      "/opt/anaconda3/envs/FastScapeEnvironment/lib/python3.10/site-packages/xsimlab/xr_accessor.py:229: FutureWarning: variable 'time' with name matching its dimension will not be automatically converted into an `IndexVariable` object in the future.\n",
      "  xr_var = as_variable(data, name=dim)\n",
      "/opt/anaconda3/envs/FastScapeEnvironment/lib/python3.10/site-packages/xsimlab/xr_accessor.py:229: FutureWarning: variable 'out' with name matching its dimension will not be automatically converted into an `IndexVariable` object in the future.\n",
      "  xr_var = as_variable(data, name=dim)\n",
      "/opt/anaconda3/envs/FastScapeEnvironment/lib/python3.10/site-packages/xsimlab/xr_accessor.py:229: FutureWarning: variable 'time' with name matching its dimension will not be automatically converted into an `IndexVariable` object in the future.\n",
      "  xr_var = as_variable(data, name=dim)\n",
      "/opt/anaconda3/envs/FastScapeEnvironment/lib/python3.10/site-packages/xsimlab/xr_accessor.py:229: FutureWarning: variable 'out' with name matching its dimension will not be automatically converted into an `IndexVariable` object in the future.\n",
      "  xr_var = as_variable(data, name=dim)\n",
      "/opt/anaconda3/envs/FastScapeEnvironment/lib/python3.10/site-packages/xsimlab/xr_accessor.py:229: FutureWarning: variable 'time' with name matching its dimension will not be automatically converted into an `IndexVariable` object in the future.\n",
      "  xr_var = as_variable(data, name=dim)\n",
      "/opt/anaconda3/envs/FastScapeEnvironment/lib/python3.10/site-packages/xsimlab/xr_accessor.py:229: FutureWarning: variable 'out' with name matching its dimension will not be automatically converted into an `IndexVariable` object in the future.\n",
      "  xr_var = as_variable(data, name=dim)\n",
      "/opt/anaconda3/envs/FastScapeEnvironment/lib/python3.10/site-packages/xsimlab/xr_accessor.py:229: FutureWarning: variable 'time' with name matching its dimension will not be automatically converted into an `IndexVariable` object in the future.\n",
      "  xr_var = as_variable(data, name=dim)\n",
      "/opt/anaconda3/envs/FastScapeEnvironment/lib/python3.10/site-packages/xsimlab/xr_accessor.py:229: FutureWarning: variable 'out' with name matching its dimension will not be automatically converted into an `IndexVariable` object in the future.\n",
      "  xr_var = as_variable(data, name=dim)\n",
      "/opt/anaconda3/envs/FastScapeEnvironment/lib/python3.10/site-packages/xsimlab/xr_accessor.py:229: FutureWarning: variable 'time' with name matching its dimension will not be automatically converted into an `IndexVariable` object in the future.\n",
      "  xr_var = as_variable(data, name=dim)\n",
      "/opt/anaconda3/envs/FastScapeEnvironment/lib/python3.10/site-packages/xsimlab/xr_accessor.py:229: FutureWarning: variable 'out' with name matching its dimension will not be automatically converted into an `IndexVariable` object in the future.\n",
      "  xr_var = as_variable(data, name=dim)\n",
      "/opt/anaconda3/envs/FastScapeEnvironment/lib/python3.10/site-packages/xsimlab/xr_accessor.py:229: FutureWarning: variable 'time' with name matching its dimension will not be automatically converted into an `IndexVariable` object in the future.\n",
      "  xr_var = as_variable(data, name=dim)\n",
      "/opt/anaconda3/envs/FastScapeEnvironment/lib/python3.10/site-packages/xsimlab/xr_accessor.py:229: FutureWarning: variable 'out' with name matching its dimension will not be automatically converted into an `IndexVariable` object in the future.\n",
      "  xr_var = as_variable(data, name=dim)\n",
      "/opt/anaconda3/envs/FastScapeEnvironment/lib/python3.10/site-packages/xsimlab/xr_accessor.py:229: FutureWarning: variable 'time' with name matching its dimension will not be automatically converted into an `IndexVariable` object in the future.\n",
      "  xr_var = as_variable(data, name=dim)\n",
      "/opt/anaconda3/envs/FastScapeEnvironment/lib/python3.10/site-packages/xsimlab/xr_accessor.py:229: FutureWarning: variable 'out' with name matching its dimension will not be automatically converted into an `IndexVariable` object in the future.\n",
      "  xr_var = as_variable(data, name=dim)\n",
      "/opt/anaconda3/envs/FastScapeEnvironment/lib/python3.10/site-packages/xsimlab/xr_accessor.py:229: FutureWarning: variable 'time' with name matching its dimension will not be automatically converted into an `IndexVariable` object in the future.\n",
      "  xr_var = as_variable(data, name=dim)\n",
      "/opt/anaconda3/envs/FastScapeEnvironment/lib/python3.10/site-packages/xsimlab/xr_accessor.py:229: FutureWarning: variable 'out' with name matching its dimension will not be automatically converted into an `IndexVariable` object in the future.\n",
      "  xr_var = as_variable(data, name=dim)\n",
      "/opt/anaconda3/envs/FastScapeEnvironment/lib/python3.10/site-packages/xsimlab/xr_accessor.py:229: FutureWarning: variable 'time' with name matching its dimension will not be automatically converted into an `IndexVariable` object in the future.\n",
      "  xr_var = as_variable(data, name=dim)\n",
      "/opt/anaconda3/envs/FastScapeEnvironment/lib/python3.10/site-packages/xsimlab/xr_accessor.py:229: FutureWarning: variable 'out' with name matching its dimension will not be automatically converted into an `IndexVariable` object in the future.\n",
      "  xr_var = as_variable(data, name=dim)\n",
      "/opt/anaconda3/envs/FastScapeEnvironment/lib/python3.10/site-packages/xsimlab/xr_accessor.py:229: FutureWarning: variable 'time' with name matching its dimension will not be automatically converted into an `IndexVariable` object in the future.\n",
      "  xr_var = as_variable(data, name=dim)\n",
      "/opt/anaconda3/envs/FastScapeEnvironment/lib/python3.10/site-packages/xsimlab/xr_accessor.py:229: FutureWarning: variable 'out' with name matching its dimension will not be automatically converted into an `IndexVariable` object in the future.\n",
      "  xr_var = as_variable(data, name=dim)\n",
      "/opt/anaconda3/envs/FastScapeEnvironment/lib/python3.10/site-packages/xsimlab/xr_accessor.py:229: FutureWarning: variable 'time' with name matching its dimension will not be automatically converted into an `IndexVariable` object in the future.\n",
      "  xr_var = as_variable(data, name=dim)\n",
      "/opt/anaconda3/envs/FastScapeEnvironment/lib/python3.10/site-packages/xsimlab/xr_accessor.py:229: FutureWarning: variable 'out' with name matching its dimension will not be automatically converted into an `IndexVariable` object in the future.\n",
      "  xr_var = as_variable(data, name=dim)\n",
      "/opt/anaconda3/envs/FastScapeEnvironment/lib/python3.10/site-packages/xsimlab/xr_accessor.py:229: FutureWarning: variable 'time' with name matching its dimension will not be automatically converted into an `IndexVariable` object in the future.\n",
      "  xr_var = as_variable(data, name=dim)\n",
      "/opt/anaconda3/envs/FastScapeEnvironment/lib/python3.10/site-packages/xsimlab/xr_accessor.py:229: FutureWarning: variable 'out' with name matching its dimension will not be automatically converted into an `IndexVariable` object in the future.\n",
      "  xr_var = as_variable(data, name=dim)\n",
      "/opt/anaconda3/envs/FastScapeEnvironment/lib/python3.10/site-packages/xsimlab/xr_accessor.py:229: FutureWarning: variable 'time' with name matching its dimension will not be automatically converted into an `IndexVariable` object in the future.\n",
      "  xr_var = as_variable(data, name=dim)\n",
      "/opt/anaconda3/envs/FastScapeEnvironment/lib/python3.10/site-packages/xsimlab/xr_accessor.py:229: FutureWarning: variable 'out' with name matching its dimension will not be automatically converted into an `IndexVariable` object in the future.\n",
      "  xr_var = as_variable(data, name=dim)\n",
      "/opt/anaconda3/envs/FastScapeEnvironment/lib/python3.10/site-packages/xsimlab/xr_accessor.py:229: FutureWarning: variable 'time' with name matching its dimension will not be automatically converted into an `IndexVariable` object in the future.\n",
      "  xr_var = as_variable(data, name=dim)\n",
      "/opt/anaconda3/envs/FastScapeEnvironment/lib/python3.10/site-packages/xsimlab/xr_accessor.py:229: FutureWarning: variable 'out' with name matching its dimension will not be automatically converted into an `IndexVariable` object in the future.\n",
      "  xr_var = as_variable(data, name=dim)\n",
      "/opt/anaconda3/envs/FastScapeEnvironment/lib/python3.10/site-packages/xsimlab/xr_accessor.py:229: FutureWarning: variable 'time' with name matching its dimension will not be automatically converted into an `IndexVariable` object in the future.\n",
      "  xr_var = as_variable(data, name=dim)\n",
      "/opt/anaconda3/envs/FastScapeEnvironment/lib/python3.10/site-packages/xsimlab/xr_accessor.py:229: FutureWarning: variable 'out' with name matching its dimension will not be automatically converted into an `IndexVariable` object in the future.\n",
      "  xr_var = as_variable(data, name=dim)\n",
      "/opt/anaconda3/envs/FastScapeEnvironment/lib/python3.10/site-packages/xsimlab/xr_accessor.py:229: FutureWarning: variable 'time' with name matching its dimension will not be automatically converted into an `IndexVariable` object in the future.\n",
      "  xr_var = as_variable(data, name=dim)\n",
      "/opt/anaconda3/envs/FastScapeEnvironment/lib/python3.10/site-packages/xsimlab/xr_accessor.py:229: FutureWarning: variable 'out' with name matching its dimension will not be automatically converted into an `IndexVariable` object in the future.\n",
      "  xr_var = as_variable(data, name=dim)\n",
      "/opt/anaconda3/envs/FastScapeEnvironment/lib/python3.10/site-packages/xsimlab/xr_accessor.py:229: FutureWarning: variable 'time' with name matching its dimension will not be automatically converted into an `IndexVariable` object in the future.\n",
      "  xr_var = as_variable(data, name=dim)\n",
      "/opt/anaconda3/envs/FastScapeEnvironment/lib/python3.10/site-packages/xsimlab/xr_accessor.py:229: FutureWarning: variable 'out' with name matching its dimension will not be automatically converted into an `IndexVariable` object in the future.\n",
      "  xr_var = as_variable(data, name=dim)\n",
      "/opt/anaconda3/envs/FastScapeEnvironment/lib/python3.10/site-packages/xsimlab/xr_accessor.py:229: FutureWarning: variable 'time' with name matching its dimension will not be automatically converted into an `IndexVariable` object in the future.\n",
      "  xr_var = as_variable(data, name=dim)\n",
      "/opt/anaconda3/envs/FastScapeEnvironment/lib/python3.10/site-packages/xsimlab/xr_accessor.py:229: FutureWarning: variable 'out' with name matching its dimension will not be automatically converted into an `IndexVariable` object in the future.\n",
      "  xr_var = as_variable(data, name=dim)\n",
      "/opt/anaconda3/envs/FastScapeEnvironment/lib/python3.10/site-packages/xsimlab/xr_accessor.py:229: FutureWarning: variable 'time' with name matching its dimension will not be automatically converted into an `IndexVariable` object in the future.\n",
      "  xr_var = as_variable(data, name=dim)\n",
      "/opt/anaconda3/envs/FastScapeEnvironment/lib/python3.10/site-packages/xsimlab/xr_accessor.py:229: FutureWarning: variable 'out' with name matching its dimension will not be automatically converted into an `IndexVariable` object in the future.\n",
      "  xr_var = as_variable(data, name=dim)\n",
      "/opt/anaconda3/envs/FastScapeEnvironment/lib/python3.10/site-packages/xsimlab/xr_accessor.py:229: FutureWarning: variable 'time' with name matching its dimension will not be automatically converted into an `IndexVariable` object in the future.\n",
      "  xr_var = as_variable(data, name=dim)\n",
      "/opt/anaconda3/envs/FastScapeEnvironment/lib/python3.10/site-packages/xsimlab/xr_accessor.py:229: FutureWarning: variable 'out' with name matching its dimension will not be automatically converted into an `IndexVariable` object in the future.\n",
      "  xr_var = as_variable(data, name=dim)\n",
      "/opt/anaconda3/envs/FastScapeEnvironment/lib/python3.10/site-packages/xsimlab/xr_accessor.py:229: FutureWarning: variable 'time' with name matching its dimension will not be automatically converted into an `IndexVariable` object in the future.\n",
      "  xr_var = as_variable(data, name=dim)\n",
      "/opt/anaconda3/envs/FastScapeEnvironment/lib/python3.10/site-packages/xsimlab/xr_accessor.py:229: FutureWarning: variable 'out' with name matching its dimension will not be automatically converted into an `IndexVariable` object in the future.\n",
      "  xr_var = as_variable(data, name=dim)\n",
      "/opt/anaconda3/envs/FastScapeEnvironment/lib/python3.10/site-packages/xsimlab/xr_accessor.py:229: FutureWarning: variable 'time' with name matching its dimension will not be automatically converted into an `IndexVariable` object in the future.\n",
      "  xr_var = as_variable(data, name=dim)\n",
      "/opt/anaconda3/envs/FastScapeEnvironment/lib/python3.10/site-packages/xsimlab/xr_accessor.py:229: FutureWarning: variable 'out' with name matching its dimension will not be automatically converted into an `IndexVariable` object in the future.\n",
      "  xr_var = as_variable(data, name=dim)\n",
      "/opt/anaconda3/envs/FastScapeEnvironment/lib/python3.10/site-packages/xsimlab/xr_accessor.py:229: FutureWarning: variable 'time' with name matching its dimension will not be automatically converted into an `IndexVariable` object in the future.\n",
      "  xr_var = as_variable(data, name=dim)\n",
      "/opt/anaconda3/envs/FastScapeEnvironment/lib/python3.10/site-packages/xsimlab/xr_accessor.py:229: FutureWarning: variable 'out' with name matching its dimension will not be automatically converted into an `IndexVariable` object in the future.\n",
      "  xr_var = as_variable(data, name=dim)\n",
      "/opt/anaconda3/envs/FastScapeEnvironment/lib/python3.10/site-packages/xsimlab/xr_accessor.py:229: FutureWarning: variable 'time' with name matching its dimension will not be automatically converted into an `IndexVariable` object in the future.\n",
      "  xr_var = as_variable(data, name=dim)\n",
      "/opt/anaconda3/envs/FastScapeEnvironment/lib/python3.10/site-packages/xsimlab/xr_accessor.py:229: FutureWarning: variable 'out' with name matching its dimension will not be automatically converted into an `IndexVariable` object in the future.\n",
      "  xr_var = as_variable(data, name=dim)\n",
      "/opt/anaconda3/envs/FastScapeEnvironment/lib/python3.10/site-packages/xsimlab/xr_accessor.py:229: FutureWarning: variable 'time' with name matching its dimension will not be automatically converted into an `IndexVariable` object in the future.\n",
      "  xr_var = as_variable(data, name=dim)\n",
      "/opt/anaconda3/envs/FastScapeEnvironment/lib/python3.10/site-packages/xsimlab/xr_accessor.py:229: FutureWarning: variable 'out' with name matching its dimension will not be automatically converted into an `IndexVariable` object in the future.\n",
      "  xr_var = as_variable(data, name=dim)\n",
      "/opt/anaconda3/envs/FastScapeEnvironment/lib/python3.10/site-packages/xsimlab/xr_accessor.py:229: FutureWarning: variable 'time' with name matching its dimension will not be automatically converted into an `IndexVariable` object in the future.\n",
      "  xr_var = as_variable(data, name=dim)\n",
      "/opt/anaconda3/envs/FastScapeEnvironment/lib/python3.10/site-packages/xsimlab/xr_accessor.py:229: FutureWarning: variable 'out' with name matching its dimension will not be automatically converted into an `IndexVariable` object in the future.\n",
      "  xr_var = as_variable(data, name=dim)\n"
     ]
    },
    {
     "ename": "KeyboardInterrupt",
     "evalue": "",
     "output_type": "error",
     "traceback": [
      "\u001b[0;31m---------------------------------------------------------------------------\u001b[0m",
      "\u001b[0;31mKeyboardInterrupt\u001b[0m                         Traceback (most recent call last)",
      "Cell \u001b[0;32mIn[46], line 2\u001b[0m\n\u001b[1;32m      1\u001b[0m misfit\u001b[38;5;241m=\u001b[39mTuner(param_space, obj)\n\u001b[0;32m----> 2\u001b[0m results \u001b[38;5;241m=\u001b[39m \u001b[43mmisfit\u001b[49m\u001b[38;5;241;43m.\u001b[39;49m\u001b[43mminimize\u001b[49m\u001b[43m(\u001b[49m\u001b[43m)\u001b[49m  \n",
      "File \u001b[0;32m/opt/anaconda3/envs/FastScapeEnvironment/lib/python3.10/site-packages/mango/tuner.py:127\u001b[0m, in \u001b[0;36mTuner.minimize\u001b[0;34m(self)\u001b[0m\n\u001b[1;32m    125\u001b[0m \u001b[38;5;28;01mdef\u001b[39;00m\u001b[38;5;250m \u001b[39m\u001b[38;5;21mminimize\u001b[39m(\u001b[38;5;28mself\u001b[39m):\n\u001b[1;32m    126\u001b[0m     \u001b[38;5;28mself\u001b[39m\u001b[38;5;241m.\u001b[39mmaximize_objective \u001b[38;5;241m=\u001b[39m \u001b[38;5;28;01mFalse\u001b[39;00m\n\u001b[0;32m--> 127\u001b[0m     \u001b[38;5;28;01mreturn\u001b[39;00m \u001b[38;5;28;43mself\u001b[39;49m\u001b[38;5;241;43m.\u001b[39;49m\u001b[43mrun\u001b[49m\u001b[43m(\u001b[49m\u001b[43m)\u001b[49m\n",
      "File \u001b[0;32m/opt/anaconda3/envs/FastScapeEnvironment/lib/python3.10/site-packages/mango/tuner.py:114\u001b[0m, in \u001b[0;36mTuner.run\u001b[0;34m(self)\u001b[0m\n\u001b[1;32m    112\u001b[0m \u001b[38;5;28;01mdef\u001b[39;00m\u001b[38;5;250m \u001b[39m\u001b[38;5;21mrun\u001b[39m(\u001b[38;5;28mself\u001b[39m):\n\u001b[1;32m    113\u001b[0m     \u001b[38;5;28;01mif\u001b[39;00m \u001b[38;5;28mself\u001b[39m\u001b[38;5;241m.\u001b[39mconfig\u001b[38;5;241m.\u001b[39mis_bayesian:\n\u001b[0;32m--> 114\u001b[0m         \u001b[38;5;28mself\u001b[39m\u001b[38;5;241m.\u001b[39mresults \u001b[38;5;241m=\u001b[39m \u001b[38;5;28;43mself\u001b[39;49m\u001b[38;5;241;43m.\u001b[39;49m\u001b[43mrunBayesianOptimizer\u001b[49m\u001b[43m(\u001b[49m\u001b[43m)\u001b[49m\n\u001b[1;32m    115\u001b[0m     \u001b[38;5;28;01melif\u001b[39;00m \u001b[38;5;28mself\u001b[39m\u001b[38;5;241m.\u001b[39mconfig\u001b[38;5;241m.\u001b[39mis_random:\n\u001b[1;32m    116\u001b[0m         \u001b[38;5;28mself\u001b[39m\u001b[38;5;241m.\u001b[39mresults \u001b[38;5;241m=\u001b[39m \u001b[38;5;28mself\u001b[39m\u001b[38;5;241m.\u001b[39mrunRandomOptimizer()\n",
      "File \u001b[0;32m/opt/anaconda3/envs/FastScapeEnvironment/lib/python3.10/site-packages/mango/tuner.py:241\u001b[0m, in \u001b[0;36mTuner.runBayesianOptimizer\u001b[0;34m(self)\u001b[0m\n\u001b[1;32m    238\u001b[0m     X_next_PS \u001b[38;5;241m=\u001b[39m \u001b[38;5;28mself\u001b[39m\u001b[38;5;241m.\u001b[39mds\u001b[38;5;241m.\u001b[39mget_random_sample(\u001b[38;5;28mself\u001b[39m\u001b[38;5;241m.\u001b[39mconfig\u001b[38;5;241m.\u001b[39mbatch_size)\n\u001b[1;32m    240\u001b[0m \u001b[38;5;66;03m# Evaluate the Objective function\u001b[39;00m\n\u001b[0;32m--> 241\u001b[0m X_next_list, Y_next_list \u001b[38;5;241m=\u001b[39m \u001b[38;5;28;43mself\u001b[39;49m\u001b[38;5;241;43m.\u001b[39;49m\u001b[43mrunUserObjective\u001b[49m\u001b[43m(\u001b[49m\u001b[43mX_next_PS\u001b[49m\u001b[43m)\u001b[49m\n\u001b[1;32m    243\u001b[0m \u001b[38;5;66;03m# keep track of all parameters that failed\u001b[39;00m\n\u001b[1;32m    244\u001b[0m x_failed \u001b[38;5;241m=\u001b[39m [x \u001b[38;5;28;01mfor\u001b[39;00m x \u001b[38;5;129;01min\u001b[39;00m X_next_PS \u001b[38;5;28;01mif\u001b[39;00m x \u001b[38;5;129;01mnot\u001b[39;00m \u001b[38;5;129;01min\u001b[39;00m X_next_list]\n",
      "File \u001b[0;32m/opt/anaconda3/envs/FastScapeEnvironment/lib/python3.10/site-packages/mango/tuner.py:342\u001b[0m, in \u001b[0;36mTuner.runUserObjective\u001b[0;34m(self, X_next_PS)\u001b[0m\n\u001b[1;32m    339\u001b[0m \u001b[38;5;28;01mdef\u001b[39;00m\u001b[38;5;250m \u001b[39m\u001b[38;5;21mrunUserObjective\u001b[39m(\u001b[38;5;28mself\u001b[39m, X_next_PS):\n\u001b[1;32m    340\u001b[0m     \u001b[38;5;66;03m# initially assuming entire X_next_PS is evaluated and returned results are only Y values\u001b[39;00m\n\u001b[1;32m    341\u001b[0m     X_list_evaluated \u001b[38;5;241m=\u001b[39m X_next_PS\n\u001b[0;32m--> 342\u001b[0m     results \u001b[38;5;241m=\u001b[39m \u001b[38;5;28;43mself\u001b[39;49m\u001b[38;5;241;43m.\u001b[39;49m\u001b[43mobjective_function\u001b[49m\u001b[43m(\u001b[49m\u001b[43mX_next_PS\u001b[49m\u001b[43m)\u001b[49m\n\u001b[1;32m    343\u001b[0m     Y_list_evaluated \u001b[38;5;241m=\u001b[39m results\n\u001b[1;32m    345\u001b[0m     \u001b[38;5;66;03m# if result is a tuple, then there is possibility that partial values are evaluated\u001b[39;00m\n",
      "File \u001b[0;32m/opt/anaconda3/envs/FastScapeEnvironment/lib/python3.10/site-packages/mango/scheduler.py:30\u001b[0m, in \u001b[0;36mparallel.<locals>.decorator.<locals>.wrapper\u001b[0;34m(params_batch)\u001b[0m\n\u001b[1;32m     28\u001b[0m \u001b[38;5;129m@functools\u001b[39m\u001b[38;5;241m.\u001b[39mwraps(func)\n\u001b[1;32m     29\u001b[0m \u001b[38;5;28;01mdef\u001b[39;00m\u001b[38;5;250m \u001b[39m\u001b[38;5;21mwrapper\u001b[39m(params_batch):\n\u001b[0;32m---> 30\u001b[0m     \u001b[38;5;28;01mreturn\u001b[39;00m \u001b[43mParallel\u001b[49m\u001b[43m(\u001b[49m\u001b[43mn_jobs\u001b[49m\u001b[43m)\u001b[49m\u001b[43m(\u001b[49m\u001b[43mdelayed\u001b[49m\u001b[43m(\u001b[49m\u001b[43mfunc\u001b[49m\u001b[43m)\u001b[49m\u001b[43m(\u001b[49m\u001b[38;5;241;43m*\u001b[39;49m\u001b[38;5;241;43m*\u001b[39;49m\u001b[43mparams\u001b[49m\u001b[43m)\u001b[49m\u001b[43m \u001b[49m\u001b[38;5;28;43;01mfor\u001b[39;49;00m\u001b[43m \u001b[49m\u001b[43mparams\u001b[49m\u001b[43m \u001b[49m\u001b[38;5;129;43;01min\u001b[39;49;00m\u001b[43m \u001b[49m\u001b[43mparams_batch\u001b[49m\u001b[43m)\u001b[49m\n",
      "File \u001b[0;32m/opt/anaconda3/envs/FastScapeEnvironment/lib/python3.10/site-packages/joblib/parallel.py:2072\u001b[0m, in \u001b[0;36mParallel.__call__\u001b[0;34m(self, iterable)\u001b[0m\n\u001b[1;32m   2066\u001b[0m \u001b[38;5;66;03m# The first item from the output is blank, but it makes the interpreter\u001b[39;00m\n\u001b[1;32m   2067\u001b[0m \u001b[38;5;66;03m# progress until it enters the Try/Except block of the generator and\u001b[39;00m\n\u001b[1;32m   2068\u001b[0m \u001b[38;5;66;03m# reaches the first `yield` statement. This starts the asynchronous\u001b[39;00m\n\u001b[1;32m   2069\u001b[0m \u001b[38;5;66;03m# dispatch of the tasks to the workers.\u001b[39;00m\n\u001b[1;32m   2070\u001b[0m \u001b[38;5;28mnext\u001b[39m(output)\n\u001b[0;32m-> 2072\u001b[0m \u001b[38;5;28;01mreturn\u001b[39;00m output \u001b[38;5;28;01mif\u001b[39;00m \u001b[38;5;28mself\u001b[39m\u001b[38;5;241m.\u001b[39mreturn_generator \u001b[38;5;28;01melse\u001b[39;00m \u001b[38;5;28;43mlist\u001b[39;49m\u001b[43m(\u001b[49m\u001b[43moutput\u001b[49m\u001b[43m)\u001b[49m\n",
      "File \u001b[0;32m/opt/anaconda3/envs/FastScapeEnvironment/lib/python3.10/site-packages/joblib/parallel.py:1682\u001b[0m, in \u001b[0;36mParallel._get_outputs\u001b[0;34m(self, iterator, pre_dispatch)\u001b[0m\n\u001b[1;32m   1679\u001b[0m     \u001b[38;5;28;01myield\u001b[39;00m\n\u001b[1;32m   1681\u001b[0m     \u001b[38;5;28;01mwith\u001b[39;00m \u001b[38;5;28mself\u001b[39m\u001b[38;5;241m.\u001b[39m_backend\u001b[38;5;241m.\u001b[39mretrieval_context():\n\u001b[0;32m-> 1682\u001b[0m         \u001b[38;5;28;01myield from\u001b[39;00m \u001b[38;5;28mself\u001b[39m\u001b[38;5;241m.\u001b[39m_retrieve()\n\u001b[1;32m   1684\u001b[0m \u001b[38;5;28;01mexcept\u001b[39;00m \u001b[38;5;167;01mGeneratorExit\u001b[39;00m:\n\u001b[1;32m   1685\u001b[0m     \u001b[38;5;66;03m# The generator has been garbage collected before being fully\u001b[39;00m\n\u001b[1;32m   1686\u001b[0m     \u001b[38;5;66;03m# consumed. This aborts the remaining tasks if possible and warn\u001b[39;00m\n\u001b[1;32m   1687\u001b[0m     \u001b[38;5;66;03m# the user if necessary.\u001b[39;00m\n\u001b[1;32m   1688\u001b[0m     \u001b[38;5;28mself\u001b[39m\u001b[38;5;241m.\u001b[39m_exception \u001b[38;5;241m=\u001b[39m \u001b[38;5;28;01mTrue\u001b[39;00m\n",
      "File \u001b[0;32m/opt/anaconda3/envs/FastScapeEnvironment/lib/python3.10/site-packages/joblib/parallel.py:1800\u001b[0m, in \u001b[0;36mParallel._retrieve\u001b[0;34m(self)\u001b[0m\n\u001b[1;32m   1789\u001b[0m \u001b[38;5;28;01mif\u001b[39;00m \u001b[38;5;28mself\u001b[39m\u001b[38;5;241m.\u001b[39mreturn_ordered:\n\u001b[1;32m   1790\u001b[0m     \u001b[38;5;66;03m# Case ordered: wait for completion (or error) of the next job\u001b[39;00m\n\u001b[1;32m   1791\u001b[0m     \u001b[38;5;66;03m# that have been dispatched and not retrieved yet. If no job\u001b[39;00m\n\u001b[0;32m   (...)\u001b[0m\n\u001b[1;32m   1795\u001b[0m     \u001b[38;5;66;03m# control only have to be done on the amount of time the next\u001b[39;00m\n\u001b[1;32m   1796\u001b[0m     \u001b[38;5;66;03m# dispatched job is pending.\u001b[39;00m\n\u001b[1;32m   1797\u001b[0m     \u001b[38;5;28;01mif\u001b[39;00m (nb_jobs \u001b[38;5;241m==\u001b[39m \u001b[38;5;241m0\u001b[39m) \u001b[38;5;129;01mor\u001b[39;00m (\n\u001b[1;32m   1798\u001b[0m         \u001b[38;5;28mself\u001b[39m\u001b[38;5;241m.\u001b[39m_jobs[\u001b[38;5;241m0\u001b[39m]\u001b[38;5;241m.\u001b[39mget_status(timeout\u001b[38;5;241m=\u001b[39m\u001b[38;5;28mself\u001b[39m\u001b[38;5;241m.\u001b[39mtimeout) \u001b[38;5;241m==\u001b[39m TASK_PENDING\n\u001b[1;32m   1799\u001b[0m     ):\n\u001b[0;32m-> 1800\u001b[0m         \u001b[43mtime\u001b[49m\u001b[38;5;241;43m.\u001b[39;49m\u001b[43msleep\u001b[49m\u001b[43m(\u001b[49m\u001b[38;5;241;43m0.01\u001b[39;49m\u001b[43m)\u001b[49m\n\u001b[1;32m   1801\u001b[0m         \u001b[38;5;28;01mcontinue\u001b[39;00m\n\u001b[1;32m   1803\u001b[0m \u001b[38;5;28;01melif\u001b[39;00m nb_jobs \u001b[38;5;241m==\u001b[39m \u001b[38;5;241m0\u001b[39m:\n\u001b[1;32m   1804\u001b[0m     \u001b[38;5;66;03m# Case unordered: jobs are added to the list of jobs to\u001b[39;00m\n\u001b[1;32m   1805\u001b[0m     \u001b[38;5;66;03m# retrieve `self._jobs` only once completed or in error, which\u001b[39;00m\n\u001b[0;32m   (...)\u001b[0m\n\u001b[1;32m   1811\u001b[0m     \u001b[38;5;66;03m# timeouts before any other dispatched job has completed and\u001b[39;00m\n\u001b[1;32m   1812\u001b[0m     \u001b[38;5;66;03m# been added to `self._jobs` to be retrieved.\u001b[39;00m\n",
      "\u001b[0;31mKeyboardInterrupt\u001b[0m: "
     ]
    }
   ],
   "source": [
    "misfit=Tuner(param_space, obj)\n",
    "results = misfit.minimize()  "
   ]
  },
  {
   "cell_type": "code",
   "execution_count": 27,
   "id": "42714fac",
   "metadata": {},
   "outputs": [
    {
     "ename": "NameError",
     "evalue": "name 'results' is not defined",
     "output_type": "error",
     "traceback": [
      "\u001b[0;31m---------------------------------------------------------------------------\u001b[0m",
      "\u001b[0;31mNameError\u001b[0m                                 Traceback (most recent call last)",
      "Cell \u001b[0;32mIn[27], line 2\u001b[0m\n\u001b[1;32m      1\u001b[0m \u001b[38;5;66;03m# Save dictionary\u001b[39;00m\n\u001b[0;32m----> 2\u001b[0m np\u001b[38;5;241m.\u001b[39msave(\u001b[38;5;124m'\u001b[39m\u001b[38;5;124mMarch2024_OrogenBasinGSMisfit.npy\u001b[39m\u001b[38;5;124m'\u001b[39m, \u001b[43mresults\u001b[49m) \n",
      "\u001b[0;31mNameError\u001b[0m: name 'results' is not defined"
     ]
    }
   ],
   "source": [
    "# Save dictionary\n",
    "np.save('March2024_OrogenBasinGSMisfit.npy', results) "
   ]
  },
  {
   "cell_type": "code",
   "execution_count": null,
   "id": "3144aa4b-99e5-4067-a670-aac0ec0db87c",
   "metadata": {},
   "outputs": [],
   "source": []
  },
  {
   "cell_type": "code",
   "execution_count": null,
   "id": "a3bc0cff-2ca6-46eb-a361-8c9be17c815d",
   "metadata": {},
   "outputs": [],
   "source": []
  }
 ],
 "metadata": {
  "kernelspec": {
   "display_name": "Python 3 (ipykernel)",
   "language": "python",
   "name": "python3"
  },
  "language_info": {
   "codemirror_mode": {
    "name": "ipython",
    "version": 3
   },
   "file_extension": ".py",
   "mimetype": "text/x-python",
   "name": "python",
   "nbconvert_exporter": "python",
   "pygments_lexer": "ipython3",
   "version": "3.10.18"
  }
 },
 "nbformat": 4,
 "nbformat_minor": 5
}
